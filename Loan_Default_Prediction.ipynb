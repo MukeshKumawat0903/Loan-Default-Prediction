{
 "cells": [
  {
   "cell_type": "markdown",
   "id": "55f810c7",
   "metadata": {},
   "source": [
    "#                                     Loan_Default_Prediction"
   ]
  },
  {
   "cell_type": "markdown",
   "id": "13aea454",
   "metadata": {},
   "source": [
    "# Problem Statement"
   ]
  },
  {
   "cell_type": "markdown",
   "id": "d461240d",
   "metadata": {},
   "source": [
    "## Introduction\n",
    "The aim is to identify patterns which indicate if a person is likely to default, which may be used for taking actions such as denying the loan, reducing the amount of loan, lending (too risky applicants) at a higher interest rate, etc. We required to solve this real business problems with help of ML Model. In this case study, apart from applying the techniques of ML model, We will also develop a basic understanding of risk analytics in banking and financial services and understand how data is used to minimise the risk of losing money while lending to customers.\n",
    "\n",
    "## Business Understanding\n",
    "You work for a consumer finance company which specialises in lending various types of loans to urban customers. When the company receives a loan application, the company has to make a decision for loan approval based on the applicant’s profile. Two types of risks are associated with the bank’s decision:\n",
    "\n",
    "You work for a consumer finance company which specialises in lending various types of loans to urban customers. When the company receives a loan application, the company has to make a decision for loan approval based on the applicant’s profile. Two types of risks are associated with the bank’s decision:\n",
    "\n",
    "If the applicant is likely to repay the loan, then not approving the loan results in a loss of business to the company.\n",
    "\n",
    "If the applicant is not likely to repay the loan, i.e. he/she is likely to default, then approving the loan may lead to a financial loss for the company.\n",
    "\n",
    "The data given below contains the information about past loan applicants and whether they ‘defaulted’ or not. The aim is to identify patterns which indicate if a person is likely to default, which may be used for taking actions such as denying the loan, reducing the amount of loan, lending (too risky applicants) at a higher interest rate, etc.\n"
   ]
  },
  {
   "cell_type": "markdown",
   "id": "b787a6b3",
   "metadata": {},
   "source": [
    "### Importing all required libraries."
   ]
  },
  {
   "cell_type": "code",
   "execution_count": 388,
   "id": "de0db1fd",
   "metadata": {},
   "outputs": [],
   "source": [
    "import numpy as np\n",
    "import pandas as pd\n",
    "import matplotlib.pyplot as plt\n",
    "import seaborn as sns"
   ]
  },
  {
   "cell_type": "code",
   "execution_count": 2,
   "id": "68108f90",
   "metadata": {},
   "outputs": [],
   "source": [
    "# Importing Regular expressions for string manipulation\n",
    "import re\n",
    "\n",
    "# Ignore warnings due to version problems\n",
    "import warnings\n",
    "warnings.filterwarnings('ignore')"
   ]
  },
  {
   "cell_type": "markdown",
   "id": "40b1b014",
   "metadata": {},
   "source": [
    "#### Read Data"
   ]
  },
  {
   "cell_type": "code",
   "execution_count": 3,
   "id": "6aa86c26",
   "metadata": {},
   "outputs": [
    {
     "data": {
      "text/html": [
       "<div>\n",
       "<style scoped>\n",
       "    .dataframe tbody tr th:only-of-type {\n",
       "        vertical-align: middle;\n",
       "    }\n",
       "\n",
       "    .dataframe tbody tr th {\n",
       "        vertical-align: top;\n",
       "    }\n",
       "\n",
       "    .dataframe thead th {\n",
       "        text-align: right;\n",
       "    }\n",
       "</style>\n",
       "<table border=\"1\" class=\"dataframe\">\n",
       "  <thead>\n",
       "    <tr style=\"text-align: right;\">\n",
       "      <th></th>\n",
       "      <th>id</th>\n",
       "      <th>member_id</th>\n",
       "      <th>loan_amnt</th>\n",
       "      <th>funded_amnt</th>\n",
       "      <th>funded_amnt_inv</th>\n",
       "      <th>term</th>\n",
       "      <th>int_rate</th>\n",
       "      <th>installment</th>\n",
       "      <th>grade</th>\n",
       "      <th>sub_grade</th>\n",
       "      <th>...</th>\n",
       "      <th>num_tl_90g_dpd_24m</th>\n",
       "      <th>num_tl_op_past_12m</th>\n",
       "      <th>pct_tl_nvr_dlq</th>\n",
       "      <th>percent_bc_gt_75</th>\n",
       "      <th>pub_rec_bankruptcies</th>\n",
       "      <th>tax_liens</th>\n",
       "      <th>tot_hi_cred_lim</th>\n",
       "      <th>total_bal_ex_mort</th>\n",
       "      <th>total_bc_limit</th>\n",
       "      <th>total_il_high_credit_limit</th>\n",
       "    </tr>\n",
       "  </thead>\n",
       "  <tbody>\n",
       "    <tr>\n",
       "      <th>0</th>\n",
       "      <td>1077501</td>\n",
       "      <td>1296599</td>\n",
       "      <td>5000</td>\n",
       "      <td>5000</td>\n",
       "      <td>4975.0</td>\n",
       "      <td>36 months</td>\n",
       "      <td>10.65%</td>\n",
       "      <td>162.87</td>\n",
       "      <td>B</td>\n",
       "      <td>B2</td>\n",
       "      <td>...</td>\n",
       "      <td>NaN</td>\n",
       "      <td>NaN</td>\n",
       "      <td>NaN</td>\n",
       "      <td>NaN</td>\n",
       "      <td>0.0</td>\n",
       "      <td>0.0</td>\n",
       "      <td>NaN</td>\n",
       "      <td>NaN</td>\n",
       "      <td>NaN</td>\n",
       "      <td>NaN</td>\n",
       "    </tr>\n",
       "    <tr>\n",
       "      <th>1</th>\n",
       "      <td>1077430</td>\n",
       "      <td>1314167</td>\n",
       "      <td>2500</td>\n",
       "      <td>2500</td>\n",
       "      <td>2500.0</td>\n",
       "      <td>60 months</td>\n",
       "      <td>15.27%</td>\n",
       "      <td>59.83</td>\n",
       "      <td>C</td>\n",
       "      <td>C4</td>\n",
       "      <td>...</td>\n",
       "      <td>NaN</td>\n",
       "      <td>NaN</td>\n",
       "      <td>NaN</td>\n",
       "      <td>NaN</td>\n",
       "      <td>0.0</td>\n",
       "      <td>0.0</td>\n",
       "      <td>NaN</td>\n",
       "      <td>NaN</td>\n",
       "      <td>NaN</td>\n",
       "      <td>NaN</td>\n",
       "    </tr>\n",
       "    <tr>\n",
       "      <th>2</th>\n",
       "      <td>1077175</td>\n",
       "      <td>1313524</td>\n",
       "      <td>2400</td>\n",
       "      <td>2400</td>\n",
       "      <td>2400.0</td>\n",
       "      <td>36 months</td>\n",
       "      <td>15.96%</td>\n",
       "      <td>84.33</td>\n",
       "      <td>C</td>\n",
       "      <td>C5</td>\n",
       "      <td>...</td>\n",
       "      <td>NaN</td>\n",
       "      <td>NaN</td>\n",
       "      <td>NaN</td>\n",
       "      <td>NaN</td>\n",
       "      <td>0.0</td>\n",
       "      <td>0.0</td>\n",
       "      <td>NaN</td>\n",
       "      <td>NaN</td>\n",
       "      <td>NaN</td>\n",
       "      <td>NaN</td>\n",
       "    </tr>\n",
       "    <tr>\n",
       "      <th>3</th>\n",
       "      <td>1076863</td>\n",
       "      <td>1277178</td>\n",
       "      <td>10000</td>\n",
       "      <td>10000</td>\n",
       "      <td>10000.0</td>\n",
       "      <td>36 months</td>\n",
       "      <td>13.49%</td>\n",
       "      <td>339.31</td>\n",
       "      <td>C</td>\n",
       "      <td>C1</td>\n",
       "      <td>...</td>\n",
       "      <td>NaN</td>\n",
       "      <td>NaN</td>\n",
       "      <td>NaN</td>\n",
       "      <td>NaN</td>\n",
       "      <td>0.0</td>\n",
       "      <td>0.0</td>\n",
       "      <td>NaN</td>\n",
       "      <td>NaN</td>\n",
       "      <td>NaN</td>\n",
       "      <td>NaN</td>\n",
       "    </tr>\n",
       "    <tr>\n",
       "      <th>4</th>\n",
       "      <td>1075358</td>\n",
       "      <td>1311748</td>\n",
       "      <td>3000</td>\n",
       "      <td>3000</td>\n",
       "      <td>3000.0</td>\n",
       "      <td>60 months</td>\n",
       "      <td>12.69%</td>\n",
       "      <td>67.79</td>\n",
       "      <td>B</td>\n",
       "      <td>B5</td>\n",
       "      <td>...</td>\n",
       "      <td>NaN</td>\n",
       "      <td>NaN</td>\n",
       "      <td>NaN</td>\n",
       "      <td>NaN</td>\n",
       "      <td>0.0</td>\n",
       "      <td>0.0</td>\n",
       "      <td>NaN</td>\n",
       "      <td>NaN</td>\n",
       "      <td>NaN</td>\n",
       "      <td>NaN</td>\n",
       "    </tr>\n",
       "  </tbody>\n",
       "</table>\n",
       "<p>5 rows × 111 columns</p>\n",
       "</div>"
      ],
      "text/plain": [
       "        id  member_id  loan_amnt  funded_amnt  funded_amnt_inv        term  \\\n",
       "0  1077501    1296599       5000         5000           4975.0   36 months   \n",
       "1  1077430    1314167       2500         2500           2500.0   60 months   \n",
       "2  1077175    1313524       2400         2400           2400.0   36 months   \n",
       "3  1076863    1277178      10000        10000          10000.0   36 months   \n",
       "4  1075358    1311748       3000         3000           3000.0   60 months   \n",
       "\n",
       "  int_rate  installment grade sub_grade  ... num_tl_90g_dpd_24m  \\\n",
       "0   10.65%       162.87     B        B2  ...                NaN   \n",
       "1   15.27%        59.83     C        C4  ...                NaN   \n",
       "2   15.96%        84.33     C        C5  ...                NaN   \n",
       "3   13.49%       339.31     C        C1  ...                NaN   \n",
       "4   12.69%        67.79     B        B5  ...                NaN   \n",
       "\n",
       "  num_tl_op_past_12m pct_tl_nvr_dlq  percent_bc_gt_75 pub_rec_bankruptcies  \\\n",
       "0                NaN            NaN               NaN                  0.0   \n",
       "1                NaN            NaN               NaN                  0.0   \n",
       "2                NaN            NaN               NaN                  0.0   \n",
       "3                NaN            NaN               NaN                  0.0   \n",
       "4                NaN            NaN               NaN                  0.0   \n",
       "\n",
       "  tax_liens tot_hi_cred_lim total_bal_ex_mort total_bc_limit  \\\n",
       "0       0.0             NaN               NaN            NaN   \n",
       "1       0.0             NaN               NaN            NaN   \n",
       "2       0.0             NaN               NaN            NaN   \n",
       "3       0.0             NaN               NaN            NaN   \n",
       "4       0.0             NaN               NaN            NaN   \n",
       "\n",
       "  total_il_high_credit_limit  \n",
       "0                        NaN  \n",
       "1                        NaN  \n",
       "2                        NaN  \n",
       "3                        NaN  \n",
       "4                        NaN  \n",
       "\n",
       "[5 rows x 111 columns]"
      ]
     },
     "execution_count": 3,
     "metadata": {},
     "output_type": "execute_result"
    }
   ],
   "source": [
    "# Reading CSV file\n",
    "df = pd.read_csv(\"E:\\\\5_New_Job\\\\Loan_Default_Prediction\\\\loan.csv\")\n",
    "df.head()"
   ]
  },
  {
   "cell_type": "markdown",
   "id": "6bdf5428",
   "metadata": {},
   "source": [
    "#### Data Analysis"
   ]
  },
  {
   "cell_type": "raw",
   "id": "6fdee450",
   "metadata": {},
   "source": [
    "# Checking the shape, information and datatype of df data file."
   ]
  },
  {
   "cell_type": "code",
   "execution_count": 4,
   "id": "1def0d31",
   "metadata": {},
   "outputs": [
    {
     "data": {
      "text/plain": [
       "(39717, 111)"
      ]
     },
     "execution_count": 4,
     "metadata": {},
     "output_type": "execute_result"
    }
   ],
   "source": [
    "df.shape"
   ]
  },
  {
   "cell_type": "code",
   "execution_count": 5,
   "id": "6a4aecdd",
   "metadata": {},
   "outputs": [
    {
     "data": {
      "text/plain": [
       "id                              int64\n",
       "member_id                       int64\n",
       "loan_amnt                       int64\n",
       "funded_amnt                     int64\n",
       "funded_amnt_inv               float64\n",
       "                               ...   \n",
       "tax_liens                     float64\n",
       "tot_hi_cred_lim               float64\n",
       "total_bal_ex_mort             float64\n",
       "total_bc_limit                float64\n",
       "total_il_high_credit_limit    float64\n",
       "Length: 111, dtype: object"
      ]
     },
     "execution_count": 5,
     "metadata": {},
     "output_type": "execute_result"
    }
   ],
   "source": [
    "df.dtypes"
   ]
  },
  {
   "cell_type": "code",
   "execution_count": 6,
   "id": "7247eebe",
   "metadata": {},
   "outputs": [
    {
     "name": "stdout",
     "output_type": "stream",
     "text": [
      "<class 'pandas.core.frame.DataFrame'>\n",
      "RangeIndex: 39717 entries, 0 to 39716\n",
      "Columns: 111 entries, id to total_il_high_credit_limit\n",
      "dtypes: float64(74), int64(13), object(24)\n",
      "memory usage: 33.6+ MB\n"
     ]
    }
   ],
   "source": [
    "df.info()"
   ]
  },
  {
   "cell_type": "code",
   "execution_count": 7,
   "id": "94da23c3",
   "metadata": {},
   "outputs": [
    {
     "data": {
      "text/html": [
       "<div>\n",
       "<style scoped>\n",
       "    .dataframe tbody tr th:only-of-type {\n",
       "        vertical-align: middle;\n",
       "    }\n",
       "\n",
       "    .dataframe tbody tr th {\n",
       "        vertical-align: top;\n",
       "    }\n",
       "\n",
       "    .dataframe thead th {\n",
       "        text-align: right;\n",
       "    }\n",
       "</style>\n",
       "<table border=\"1\" class=\"dataframe\">\n",
       "  <thead>\n",
       "    <tr style=\"text-align: right;\">\n",
       "      <th></th>\n",
       "      <th>id</th>\n",
       "      <th>member_id</th>\n",
       "      <th>loan_amnt</th>\n",
       "      <th>funded_amnt</th>\n",
       "      <th>funded_amnt_inv</th>\n",
       "      <th>term</th>\n",
       "      <th>int_rate</th>\n",
       "      <th>installment</th>\n",
       "      <th>grade</th>\n",
       "      <th>sub_grade</th>\n",
       "      <th>...</th>\n",
       "      <th>num_tl_90g_dpd_24m</th>\n",
       "      <th>num_tl_op_past_12m</th>\n",
       "      <th>pct_tl_nvr_dlq</th>\n",
       "      <th>percent_bc_gt_75</th>\n",
       "      <th>pub_rec_bankruptcies</th>\n",
       "      <th>tax_liens</th>\n",
       "      <th>tot_hi_cred_lim</th>\n",
       "      <th>total_bal_ex_mort</th>\n",
       "      <th>total_bc_limit</th>\n",
       "      <th>total_il_high_credit_limit</th>\n",
       "    </tr>\n",
       "  </thead>\n",
       "  <tbody>\n",
       "  </tbody>\n",
       "</table>\n",
       "<p>0 rows × 111 columns</p>\n",
       "</div>"
      ],
      "text/plain": [
       "Empty DataFrame\n",
       "Columns: [id, member_id, loan_amnt, funded_amnt, funded_amnt_inv, term, int_rate, installment, grade, sub_grade, emp_title, emp_length, home_ownership, annual_inc, verification_status, issue_d, loan_status, pymnt_plan, url, desc, purpose, title, zip_code, addr_state, dti, delinq_2yrs, earliest_cr_line, inq_last_6mths, mths_since_last_delinq, mths_since_last_record, open_acc, pub_rec, revol_bal, revol_util, total_acc, initial_list_status, out_prncp, out_prncp_inv, total_pymnt, total_pymnt_inv, total_rec_prncp, total_rec_int, total_rec_late_fee, recoveries, collection_recovery_fee, last_pymnt_d, last_pymnt_amnt, next_pymnt_d, last_credit_pull_d, collections_12_mths_ex_med, mths_since_last_major_derog, policy_code, application_type, annual_inc_joint, dti_joint, verification_status_joint, acc_now_delinq, tot_coll_amt, tot_cur_bal, open_acc_6m, open_il_6m, open_il_12m, open_il_24m, mths_since_rcnt_il, total_bal_il, il_util, open_rv_12m, open_rv_24m, max_bal_bc, all_util, total_rev_hi_lim, inq_fi, total_cu_tl, inq_last_12m, acc_open_past_24mths, avg_cur_bal, bc_open_to_buy, bc_util, chargeoff_within_12_mths, delinq_amnt, mo_sin_old_il_acct, mo_sin_old_rev_tl_op, mo_sin_rcnt_rev_tl_op, mo_sin_rcnt_tl, mort_acc, mths_since_recent_bc, mths_since_recent_bc_dlq, mths_since_recent_inq, mths_since_recent_revol_delinq, num_accts_ever_120_pd, num_actv_bc_tl, num_actv_rev_tl, num_bc_sats, num_bc_tl, num_il_tl, num_op_rev_tl, num_rev_accts, num_rev_tl_bal_gt_0, num_sats, num_tl_120dpd_2m, ...]\n",
       "Index: []\n",
       "\n",
       "[0 rows x 111 columns]"
      ]
     },
     "execution_count": 7,
     "metadata": {},
     "output_type": "execute_result"
    }
   ],
   "source": [
    "# Checking for duplicate rows in the dataset based on ID column.\n",
    "df.duplicated(subset=None, keep='first').count()\n",
    "duplicate = df[df.duplicated(['id'])]\n",
    "duplicate"
   ]
  },
  {
   "cell_type": "raw",
   "id": "a7574ca4",
   "metadata": {},
   "source": [
    "# There are no duplicate rows in df dataset.\n",
    "# Summary of the number of missing values in each row and column."
   ]
  },
  {
   "cell_type": "markdown",
   "id": "bb9a9d37",
   "metadata": {},
   "source": [
    "## Data Cleaning"
   ]
  },
  {
   "cell_type": "code",
   "execution_count": 8,
   "id": "cd12f6b8",
   "metadata": {},
   "outputs": [
    {
     "name": "stdout",
     "output_type": "stream",
     "text": [
      "Number of empty rows:\n"
     ]
    },
    {
     "data": {
      "text/plain": [
       "0"
      ]
     },
     "execution_count": 8,
     "metadata": {},
     "output_type": "execute_result"
    }
   ],
   "source": [
    "print('Number of empty rows:')\n",
    "df.isnull().all(axis=1).sum()"
   ]
  },
  {
   "cell_type": "code",
   "execution_count": 9,
   "id": "b28f1509",
   "metadata": {},
   "outputs": [
    {
     "data": {
      "text/html": [
       "<div>\n",
       "<style scoped>\n",
       "    .dataframe tbody tr th:only-of-type {\n",
       "        vertical-align: middle;\n",
       "    }\n",
       "\n",
       "    .dataframe tbody tr th {\n",
       "        vertical-align: top;\n",
       "    }\n",
       "\n",
       "    .dataframe thead th {\n",
       "        text-align: right;\n",
       "    }\n",
       "</style>\n",
       "<table border=\"1\" class=\"dataframe\">\n",
       "  <thead>\n",
       "    <tr style=\"text-align: right;\">\n",
       "      <th></th>\n",
       "      <th>Total</th>\n",
       "      <th>Percentage of Missing Values</th>\n",
       "    </tr>\n",
       "  </thead>\n",
       "  <tbody>\n",
       "    <tr>\n",
       "      <th>verification_status_joint</th>\n",
       "      <td>39717</td>\n",
       "      <td>100.0</td>\n",
       "    </tr>\n",
       "    <tr>\n",
       "      <th>annual_inc_joint</th>\n",
       "      <td>39717</td>\n",
       "      <td>100.0</td>\n",
       "    </tr>\n",
       "    <tr>\n",
       "      <th>mo_sin_old_rev_tl_op</th>\n",
       "      <td>39717</td>\n",
       "      <td>100.0</td>\n",
       "    </tr>\n",
       "    <tr>\n",
       "      <th>mo_sin_old_il_acct</th>\n",
       "      <td>39717</td>\n",
       "      <td>100.0</td>\n",
       "    </tr>\n",
       "    <tr>\n",
       "      <th>bc_util</th>\n",
       "      <td>39717</td>\n",
       "      <td>100.0</td>\n",
       "    </tr>\n",
       "    <tr>\n",
       "      <th>...</th>\n",
       "      <td>...</td>\n",
       "      <td>...</td>\n",
       "    </tr>\n",
       "    <tr>\n",
       "      <th>delinq_amnt</th>\n",
       "      <td>0</td>\n",
       "      <td>0.0</td>\n",
       "    </tr>\n",
       "    <tr>\n",
       "      <th>policy_code</th>\n",
       "      <td>0</td>\n",
       "      <td>0.0</td>\n",
       "    </tr>\n",
       "    <tr>\n",
       "      <th>earliest_cr_line</th>\n",
       "      <td>0</td>\n",
       "      <td>0.0</td>\n",
       "    </tr>\n",
       "    <tr>\n",
       "      <th>delinq_2yrs</th>\n",
       "      <td>0</td>\n",
       "      <td>0.0</td>\n",
       "    </tr>\n",
       "    <tr>\n",
       "      <th>id</th>\n",
       "      <td>0</td>\n",
       "      <td>0.0</td>\n",
       "    </tr>\n",
       "  </tbody>\n",
       "</table>\n",
       "<p>111 rows × 2 columns</p>\n",
       "</div>"
      ],
      "text/plain": [
       "                           Total  Percentage of Missing Values\n",
       "verification_status_joint  39717                         100.0\n",
       "annual_inc_joint           39717                         100.0\n",
       "mo_sin_old_rev_tl_op       39717                         100.0\n",
       "mo_sin_old_il_acct         39717                         100.0\n",
       "bc_util                    39717                         100.0\n",
       "...                          ...                           ...\n",
       "delinq_amnt                    0                           0.0\n",
       "policy_code                    0                           0.0\n",
       "earliest_cr_line               0                           0.0\n",
       "delinq_2yrs                    0                           0.0\n",
       "id                             0                           0.0\n",
       "\n",
       "[111 rows x 2 columns]"
      ]
     },
     "execution_count": 9,
     "metadata": {},
     "output_type": "execute_result"
    }
   ],
   "source": [
    "Total = df.isnull().sum().sort_values(ascending=False) \n",
    "Percent = (df.isnull().sum()*100/df.isnull().count()).sort_values(ascending=False)   \n",
    "missing_data = pd.concat([Total, Percent], axis = 1, keys = ['Total', 'Percentage of Missing Values'])\n",
    "missing_data"
   ]
  },
  {
   "cell_type": "raw",
   "id": "cd62dd46",
   "metadata": {},
   "source": [
    "# Dropping columns with more than 90% missing values. Because, The entire column is dropped only if most entries (80%-90%) in the column are missing. "
   ]
  },
  {
   "cell_type": "code",
   "execution_count": 10,
   "id": "80c59480",
   "metadata": {},
   "outputs": [],
   "source": [
    "x = df.columns[100*(df.isnull().sum()/len(df.index)) > 90]\n",
    "\n",
    "df = df.drop(x, axis=1)"
   ]
  },
  {
   "cell_type": "code",
   "execution_count": 11,
   "id": "398a39bd",
   "metadata": {},
   "outputs": [
    {
     "data": {
      "text/plain": [
       "(39717, 55)"
      ]
     },
     "execution_count": 11,
     "metadata": {},
     "output_type": "execute_result"
    }
   ],
   "source": [
    "df.shape"
   ]
  },
  {
   "cell_type": "code",
   "execution_count": 12,
   "id": "7b3044ae",
   "metadata": {},
   "outputs": [
    {
     "data": {
      "text/html": [
       "<div>\n",
       "<style scoped>\n",
       "    .dataframe tbody tr th:only-of-type {\n",
       "        vertical-align: middle;\n",
       "    }\n",
       "\n",
       "    .dataframe tbody tr th {\n",
       "        vertical-align: top;\n",
       "    }\n",
       "\n",
       "    .dataframe thead th {\n",
       "        text-align: right;\n",
       "    }\n",
       "</style>\n",
       "<table border=\"1\" class=\"dataframe\">\n",
       "  <thead>\n",
       "    <tr style=\"text-align: right;\">\n",
       "      <th></th>\n",
       "      <th>Total</th>\n",
       "      <th>Percentage of Missing Values</th>\n",
       "    </tr>\n",
       "  </thead>\n",
       "  <tbody>\n",
       "    <tr>\n",
       "      <th>mths_since_last_delinq</th>\n",
       "      <td>25682</td>\n",
       "      <td>64.662487</td>\n",
       "    </tr>\n",
       "    <tr>\n",
       "      <th>desc</th>\n",
       "      <td>12940</td>\n",
       "      <td>32.580507</td>\n",
       "    </tr>\n",
       "    <tr>\n",
       "      <th>emp_title</th>\n",
       "      <td>2459</td>\n",
       "      <td>6.191303</td>\n",
       "    </tr>\n",
       "    <tr>\n",
       "      <th>emp_length</th>\n",
       "      <td>1075</td>\n",
       "      <td>2.706650</td>\n",
       "    </tr>\n",
       "    <tr>\n",
       "      <th>pub_rec_bankruptcies</th>\n",
       "      <td>697</td>\n",
       "      <td>1.754916</td>\n",
       "    </tr>\n",
       "    <tr>\n",
       "      <th>last_pymnt_d</th>\n",
       "      <td>71</td>\n",
       "      <td>0.178765</td>\n",
       "    </tr>\n",
       "    <tr>\n",
       "      <th>chargeoff_within_12_mths</th>\n",
       "      <td>56</td>\n",
       "      <td>0.140998</td>\n",
       "    </tr>\n",
       "    <tr>\n",
       "      <th>collections_12_mths_ex_med</th>\n",
       "      <td>56</td>\n",
       "      <td>0.140998</td>\n",
       "    </tr>\n",
       "    <tr>\n",
       "      <th>revol_util</th>\n",
       "      <td>50</td>\n",
       "      <td>0.125891</td>\n",
       "    </tr>\n",
       "    <tr>\n",
       "      <th>tax_liens</th>\n",
       "      <td>39</td>\n",
       "      <td>0.098195</td>\n",
       "    </tr>\n",
       "    <tr>\n",
       "      <th>title</th>\n",
       "      <td>11</td>\n",
       "      <td>0.027696</td>\n",
       "    </tr>\n",
       "    <tr>\n",
       "      <th>last_credit_pull_d</th>\n",
       "      <td>2</td>\n",
       "      <td>0.005036</td>\n",
       "    </tr>\n",
       "    <tr>\n",
       "      <th>out_prncp</th>\n",
       "      <td>0</td>\n",
       "      <td>0.000000</td>\n",
       "    </tr>\n",
       "    <tr>\n",
       "      <th>initial_list_status</th>\n",
       "      <td>0</td>\n",
       "      <td>0.000000</td>\n",
       "    </tr>\n",
       "    <tr>\n",
       "      <th>out_prncp_inv</th>\n",
       "      <td>0</td>\n",
       "      <td>0.000000</td>\n",
       "    </tr>\n",
       "  </tbody>\n",
       "</table>\n",
       "</div>"
      ],
      "text/plain": [
       "                            Total  Percentage of Missing Values\n",
       "mths_since_last_delinq      25682                     64.662487\n",
       "desc                        12940                     32.580507\n",
       "emp_title                    2459                      6.191303\n",
       "emp_length                   1075                      2.706650\n",
       "pub_rec_bankruptcies          697                      1.754916\n",
       "last_pymnt_d                   71                      0.178765\n",
       "chargeoff_within_12_mths       56                      0.140998\n",
       "collections_12_mths_ex_med     56                      0.140998\n",
       "revol_util                     50                      0.125891\n",
       "tax_liens                      39                      0.098195\n",
       "title                          11                      0.027696\n",
       "last_credit_pull_d              2                      0.005036\n",
       "out_prncp                       0                      0.000000\n",
       "initial_list_status             0                      0.000000\n",
       "out_prncp_inv                   0                      0.000000"
      ]
     },
     "execution_count": 12,
     "metadata": {},
     "output_type": "execute_result"
    }
   ],
   "source": [
    "Total = df.isnull().sum().sort_values(ascending=False) \n",
    "Percent = (df.isnull().sum()*100/df.isnull().count()).sort_values(ascending=False)   \n",
    "missing_data = pd.concat([Total, Percent], axis = 1, keys = ['Total', 'Percentage of Missing Values'])\n",
    "missing_data.head(15)"
   ]
  },
  {
   "cell_type": "raw",
   "id": "c76624c6",
   "metadata": {},
   "source": [
    "# desc column contains 33 % missing value. desc is contains the \"Loan description provided by the borrower\". Although one can use some text analysis techniques to derive new features from this column (such as sentiment, number of positive/negative words etc.), we will not use this column in this analysis. We can drop the column as it is not very important.\n",
    "\n",
    "Secondly, There is an important reason we shouldn't use this column in analysis - since at the time of loan application, we will not have this data (it gets generated months after the loan has been approved), it cannot be used as a predictor of default at the time of loan approval."
   ]
  },
  {
   "cell_type": "code",
   "execution_count": 13,
   "id": "843f2222",
   "metadata": {},
   "outputs": [],
   "source": [
    "df = df.drop(['desc', 'mths_since_last_delinq'], axis=1)"
   ]
  },
  {
   "cell_type": "code",
   "execution_count": 14,
   "id": "74f31d33",
   "metadata": {},
   "outputs": [
    {
     "data": {
      "text/plain": [
       "(39717, 53)"
      ]
     },
     "execution_count": 14,
     "metadata": {},
     "output_type": "execute_result"
    }
   ],
   "source": [
    "df.shape"
   ]
  },
  {
   "cell_type": "code",
   "execution_count": 15,
   "id": "876d06e6",
   "metadata": {},
   "outputs": [
    {
     "name": "stdout",
     "output_type": "stream",
     "text": [
      "<class 'pandas.core.frame.DataFrame'>\n",
      "RangeIndex: 39717 entries, 0 to 39716\n",
      "Data columns (total 53 columns):\n",
      " #   Column                      Non-Null Count  Dtype  \n",
      "---  ------                      --------------  -----  \n",
      " 0   id                          39717 non-null  int64  \n",
      " 1   member_id                   39717 non-null  int64  \n",
      " 2   loan_amnt                   39717 non-null  int64  \n",
      " 3   funded_amnt                 39717 non-null  int64  \n",
      " 4   funded_amnt_inv             39717 non-null  float64\n",
      " 5   term                        39717 non-null  object \n",
      " 6   int_rate                    39717 non-null  object \n",
      " 7   installment                 39717 non-null  float64\n",
      " 8   grade                       39717 non-null  object \n",
      " 9   sub_grade                   39717 non-null  object \n",
      " 10  emp_title                   37258 non-null  object \n",
      " 11  emp_length                  38642 non-null  object \n",
      " 12  home_ownership              39717 non-null  object \n",
      " 13  annual_inc                  39717 non-null  float64\n",
      " 14  verification_status         39717 non-null  object \n",
      " 15  issue_d                     39717 non-null  object \n",
      " 16  loan_status                 39717 non-null  object \n",
      " 17  pymnt_plan                  39717 non-null  object \n",
      " 18  url                         39717 non-null  object \n",
      " 19  purpose                     39717 non-null  object \n",
      " 20  title                       39706 non-null  object \n",
      " 21  zip_code                    39717 non-null  object \n",
      " 22  addr_state                  39717 non-null  object \n",
      " 23  dti                         39717 non-null  float64\n",
      " 24  delinq_2yrs                 39717 non-null  int64  \n",
      " 25  earliest_cr_line            39717 non-null  object \n",
      " 26  inq_last_6mths              39717 non-null  int64  \n",
      " 27  open_acc                    39717 non-null  int64  \n",
      " 28  pub_rec                     39717 non-null  int64  \n",
      " 29  revol_bal                   39717 non-null  int64  \n",
      " 30  revol_util                  39667 non-null  object \n",
      " 31  total_acc                   39717 non-null  int64  \n",
      " 32  initial_list_status         39717 non-null  object \n",
      " 33  out_prncp                   39717 non-null  float64\n",
      " 34  out_prncp_inv               39717 non-null  float64\n",
      " 35  total_pymnt                 39717 non-null  float64\n",
      " 36  total_pymnt_inv             39717 non-null  float64\n",
      " 37  total_rec_prncp             39717 non-null  float64\n",
      " 38  total_rec_int               39717 non-null  float64\n",
      " 39  total_rec_late_fee          39717 non-null  float64\n",
      " 40  recoveries                  39717 non-null  float64\n",
      " 41  collection_recovery_fee     39717 non-null  float64\n",
      " 42  last_pymnt_d                39646 non-null  object \n",
      " 43  last_pymnt_amnt             39717 non-null  float64\n",
      " 44  last_credit_pull_d          39715 non-null  object \n",
      " 45  collections_12_mths_ex_med  39661 non-null  float64\n",
      " 46  policy_code                 39717 non-null  int64  \n",
      " 47  application_type            39717 non-null  object \n",
      " 48  acc_now_delinq              39717 non-null  int64  \n",
      " 49  chargeoff_within_12_mths    39661 non-null  float64\n",
      " 50  delinq_amnt                 39717 non-null  int64  \n",
      " 51  pub_rec_bankruptcies        39020 non-null  float64\n",
      " 52  tax_liens                   39678 non-null  float64\n",
      "dtypes: float64(18), int64(13), object(22)\n",
      "memory usage: 16.1+ MB\n"
     ]
    }
   ],
   "source": [
    "df.info()"
   ]
  },
  {
   "cell_type": "code",
   "execution_count": 16,
   "id": "e80395a9",
   "metadata": {},
   "outputs": [],
   "source": [
    "# Columns \"member_id\", \"url\", \"emp_title\", \"zip_code\" and \"tax_liens\" are not important for our analysis, so we can drop these columns.\n",
    "columns_drop =  [\"member_id\", \"url\", \"emp_title\", \"zip_code\", \"tax_liens\"]\n",
    "df.drop(labels = columns_drop, axis = 1, inplace = True)"
   ]
  },
  {
   "cell_type": "code",
   "execution_count": 17,
   "id": "7290d0ed",
   "metadata": {},
   "outputs": [
    {
     "data": {
      "text/plain": [
       "(39717, 48)"
      ]
     },
     "execution_count": 17,
     "metadata": {},
     "output_type": "execute_result"
    }
   ],
   "source": [
    "df.shape"
   ]
  },
  {
   "cell_type": "code",
   "execution_count": 18,
   "id": "373693c3",
   "metadata": {},
   "outputs": [
    {
     "data": {
      "text/html": [
       "<div>\n",
       "<style scoped>\n",
       "    .dataframe tbody tr th:only-of-type {\n",
       "        vertical-align: middle;\n",
       "    }\n",
       "\n",
       "    .dataframe tbody tr th {\n",
       "        vertical-align: top;\n",
       "    }\n",
       "\n",
       "    .dataframe thead th {\n",
       "        text-align: right;\n",
       "    }\n",
       "</style>\n",
       "<table border=\"1\" class=\"dataframe\">\n",
       "  <thead>\n",
       "    <tr style=\"text-align: right;\">\n",
       "      <th></th>\n",
       "      <th>id</th>\n",
       "      <th>loan_amnt</th>\n",
       "      <th>funded_amnt</th>\n",
       "      <th>funded_amnt_inv</th>\n",
       "      <th>term</th>\n",
       "      <th>int_rate</th>\n",
       "      <th>installment</th>\n",
       "      <th>grade</th>\n",
       "      <th>sub_grade</th>\n",
       "      <th>emp_length</th>\n",
       "      <th>...</th>\n",
       "      <th>last_pymnt_d</th>\n",
       "      <th>last_pymnt_amnt</th>\n",
       "      <th>last_credit_pull_d</th>\n",
       "      <th>collections_12_mths_ex_med</th>\n",
       "      <th>policy_code</th>\n",
       "      <th>application_type</th>\n",
       "      <th>acc_now_delinq</th>\n",
       "      <th>chargeoff_within_12_mths</th>\n",
       "      <th>delinq_amnt</th>\n",
       "      <th>pub_rec_bankruptcies</th>\n",
       "    </tr>\n",
       "  </thead>\n",
       "  <tbody>\n",
       "    <tr>\n",
       "      <th>0</th>\n",
       "      <td>1077501</td>\n",
       "      <td>5000</td>\n",
       "      <td>5000</td>\n",
       "      <td>4975.0</td>\n",
       "      <td>36 months</td>\n",
       "      <td>10.65%</td>\n",
       "      <td>162.87</td>\n",
       "      <td>B</td>\n",
       "      <td>B2</td>\n",
       "      <td>10+ years</td>\n",
       "      <td>...</td>\n",
       "      <td>Jan-15</td>\n",
       "      <td>171.62</td>\n",
       "      <td>May-16</td>\n",
       "      <td>0.0</td>\n",
       "      <td>1</td>\n",
       "      <td>INDIVIDUAL</td>\n",
       "      <td>0</td>\n",
       "      <td>0.0</td>\n",
       "      <td>0</td>\n",
       "      <td>0.0</td>\n",
       "    </tr>\n",
       "    <tr>\n",
       "      <th>1</th>\n",
       "      <td>1077430</td>\n",
       "      <td>2500</td>\n",
       "      <td>2500</td>\n",
       "      <td>2500.0</td>\n",
       "      <td>60 months</td>\n",
       "      <td>15.27%</td>\n",
       "      <td>59.83</td>\n",
       "      <td>C</td>\n",
       "      <td>C4</td>\n",
       "      <td>&lt; 1 year</td>\n",
       "      <td>...</td>\n",
       "      <td>Apr-13</td>\n",
       "      <td>119.66</td>\n",
       "      <td>Sep-13</td>\n",
       "      <td>0.0</td>\n",
       "      <td>1</td>\n",
       "      <td>INDIVIDUAL</td>\n",
       "      <td>0</td>\n",
       "      <td>0.0</td>\n",
       "      <td>0</td>\n",
       "      <td>0.0</td>\n",
       "    </tr>\n",
       "    <tr>\n",
       "      <th>2</th>\n",
       "      <td>1077175</td>\n",
       "      <td>2400</td>\n",
       "      <td>2400</td>\n",
       "      <td>2400.0</td>\n",
       "      <td>36 months</td>\n",
       "      <td>15.96%</td>\n",
       "      <td>84.33</td>\n",
       "      <td>C</td>\n",
       "      <td>C5</td>\n",
       "      <td>10+ years</td>\n",
       "      <td>...</td>\n",
       "      <td>Jun-14</td>\n",
       "      <td>649.91</td>\n",
       "      <td>May-16</td>\n",
       "      <td>0.0</td>\n",
       "      <td>1</td>\n",
       "      <td>INDIVIDUAL</td>\n",
       "      <td>0</td>\n",
       "      <td>0.0</td>\n",
       "      <td>0</td>\n",
       "      <td>0.0</td>\n",
       "    </tr>\n",
       "    <tr>\n",
       "      <th>3</th>\n",
       "      <td>1076863</td>\n",
       "      <td>10000</td>\n",
       "      <td>10000</td>\n",
       "      <td>10000.0</td>\n",
       "      <td>36 months</td>\n",
       "      <td>13.49%</td>\n",
       "      <td>339.31</td>\n",
       "      <td>C</td>\n",
       "      <td>C1</td>\n",
       "      <td>10+ years</td>\n",
       "      <td>...</td>\n",
       "      <td>Jan-15</td>\n",
       "      <td>357.48</td>\n",
       "      <td>Apr-16</td>\n",
       "      <td>0.0</td>\n",
       "      <td>1</td>\n",
       "      <td>INDIVIDUAL</td>\n",
       "      <td>0</td>\n",
       "      <td>0.0</td>\n",
       "      <td>0</td>\n",
       "      <td>0.0</td>\n",
       "    </tr>\n",
       "    <tr>\n",
       "      <th>4</th>\n",
       "      <td>1075358</td>\n",
       "      <td>3000</td>\n",
       "      <td>3000</td>\n",
       "      <td>3000.0</td>\n",
       "      <td>60 months</td>\n",
       "      <td>12.69%</td>\n",
       "      <td>67.79</td>\n",
       "      <td>B</td>\n",
       "      <td>B5</td>\n",
       "      <td>1 year</td>\n",
       "      <td>...</td>\n",
       "      <td>May-16</td>\n",
       "      <td>67.79</td>\n",
       "      <td>May-16</td>\n",
       "      <td>0.0</td>\n",
       "      <td>1</td>\n",
       "      <td>INDIVIDUAL</td>\n",
       "      <td>0</td>\n",
       "      <td>0.0</td>\n",
       "      <td>0</td>\n",
       "      <td>0.0</td>\n",
       "    </tr>\n",
       "  </tbody>\n",
       "</table>\n",
       "<p>5 rows × 48 columns</p>\n",
       "</div>"
      ],
      "text/plain": [
       "        id  loan_amnt  funded_amnt  funded_amnt_inv        term int_rate  \\\n",
       "0  1077501       5000         5000           4975.0   36 months   10.65%   \n",
       "1  1077430       2500         2500           2500.0   60 months   15.27%   \n",
       "2  1077175       2400         2400           2400.0   36 months   15.96%   \n",
       "3  1076863      10000        10000          10000.0   36 months   13.49%   \n",
       "4  1075358       3000         3000           3000.0   60 months   12.69%   \n",
       "\n",
       "   installment grade sub_grade emp_length  ... last_pymnt_d  last_pymnt_amnt  \\\n",
       "0       162.87     B        B2  10+ years  ...       Jan-15           171.62   \n",
       "1        59.83     C        C4   < 1 year  ...       Apr-13           119.66   \n",
       "2        84.33     C        C5  10+ years  ...       Jun-14           649.91   \n",
       "3       339.31     C        C1  10+ years  ...       Jan-15           357.48   \n",
       "4        67.79     B        B5     1 year  ...       May-16            67.79   \n",
       "\n",
       "  last_credit_pull_d collections_12_mths_ex_med policy_code application_type  \\\n",
       "0             May-16                        0.0           1       INDIVIDUAL   \n",
       "1             Sep-13                        0.0           1       INDIVIDUAL   \n",
       "2             May-16                        0.0           1       INDIVIDUAL   \n",
       "3             Apr-16                        0.0           1       INDIVIDUAL   \n",
       "4             May-16                        0.0           1       INDIVIDUAL   \n",
       "\n",
       "  acc_now_delinq chargeoff_within_12_mths delinq_amnt  pub_rec_bankruptcies  \n",
       "0              0                      0.0           0                   0.0  \n",
       "1              0                      0.0           0                   0.0  \n",
       "2              0                      0.0           0                   0.0  \n",
       "3              0                      0.0           0                   0.0  \n",
       "4              0                      0.0           0                   0.0  \n",
       "\n",
       "[5 rows x 48 columns]"
      ]
     },
     "execution_count": 18,
     "metadata": {},
     "output_type": "execute_result"
    }
   ],
   "source": [
    "df.head()"
   ]
  },
  {
   "cell_type": "raw",
   "id": "5f06ec5a",
   "metadata": {},
   "source": [
    "# Let's remove % symbol from intrest rate and revol_util column so that it can be used in calculations"
   ]
  },
  {
   "cell_type": "code",
   "execution_count": 19,
   "id": "1ffc2a44",
   "metadata": {},
   "outputs": [],
   "source": [
    "df['int_rate'] = df['int_rate'].str.rstrip('%')\n",
    "df['revol_util'] = df['revol_util'].str.rstrip('%')"
   ]
  },
  {
   "cell_type": "raw",
   "id": "2e08dd31",
   "metadata": {},
   "source": [
    "# Lets format employment length column to have only numbers. It may play important role in analysis further."
   ]
  },
  {
   "cell_type": "code",
   "execution_count": 20,
   "id": "fa33dcb4",
   "metadata": {},
   "outputs": [],
   "source": [
    "df.emp_length.fillna('0',inplace=True)\n",
    "\n",
    "# Using regular expression to extract numeric values from the string\n",
    "df['emp_length'] = df['emp_length'].apply(lambda x: re.findall('\\d+', str(x))[0])\n",
    "\n",
    "#Convert into integer\n",
    "df['emp_length'] = df['emp_length'].apply(lambda x: pd.to_numeric(x))"
   ]
  },
  {
   "cell_type": "code",
   "execution_count": 21,
   "id": "1e2269c2",
   "metadata": {},
   "outputs": [],
   "source": [
    "df['term'] = df['term'].apply(lambda x: re.findall('\\d+', str(x))[0])"
   ]
  },
  {
   "cell_type": "code",
   "execution_count": 22,
   "id": "6621d2f8",
   "metadata": {},
   "outputs": [
    {
     "data": {
      "text/html": [
       "<div>\n",
       "<style scoped>\n",
       "    .dataframe tbody tr th:only-of-type {\n",
       "        vertical-align: middle;\n",
       "    }\n",
       "\n",
       "    .dataframe tbody tr th {\n",
       "        vertical-align: top;\n",
       "    }\n",
       "\n",
       "    .dataframe thead th {\n",
       "        text-align: right;\n",
       "    }\n",
       "</style>\n",
       "<table border=\"1\" class=\"dataframe\">\n",
       "  <thead>\n",
       "    <tr style=\"text-align: right;\">\n",
       "      <th></th>\n",
       "      <th>id</th>\n",
       "      <th>loan_amnt</th>\n",
       "      <th>funded_amnt</th>\n",
       "      <th>funded_amnt_inv</th>\n",
       "      <th>term</th>\n",
       "      <th>int_rate</th>\n",
       "      <th>installment</th>\n",
       "      <th>grade</th>\n",
       "      <th>sub_grade</th>\n",
       "      <th>emp_length</th>\n",
       "      <th>...</th>\n",
       "      <th>last_pymnt_d</th>\n",
       "      <th>last_pymnt_amnt</th>\n",
       "      <th>last_credit_pull_d</th>\n",
       "      <th>collections_12_mths_ex_med</th>\n",
       "      <th>policy_code</th>\n",
       "      <th>application_type</th>\n",
       "      <th>acc_now_delinq</th>\n",
       "      <th>chargeoff_within_12_mths</th>\n",
       "      <th>delinq_amnt</th>\n",
       "      <th>pub_rec_bankruptcies</th>\n",
       "    </tr>\n",
       "  </thead>\n",
       "  <tbody>\n",
       "    <tr>\n",
       "      <th>0</th>\n",
       "      <td>1077501</td>\n",
       "      <td>5000</td>\n",
       "      <td>5000</td>\n",
       "      <td>4975.0</td>\n",
       "      <td>36</td>\n",
       "      <td>10.65</td>\n",
       "      <td>162.87</td>\n",
       "      <td>B</td>\n",
       "      <td>B2</td>\n",
       "      <td>10</td>\n",
       "      <td>...</td>\n",
       "      <td>Jan-15</td>\n",
       "      <td>171.62</td>\n",
       "      <td>May-16</td>\n",
       "      <td>0.0</td>\n",
       "      <td>1</td>\n",
       "      <td>INDIVIDUAL</td>\n",
       "      <td>0</td>\n",
       "      <td>0.0</td>\n",
       "      <td>0</td>\n",
       "      <td>0.0</td>\n",
       "    </tr>\n",
       "    <tr>\n",
       "      <th>1</th>\n",
       "      <td>1077430</td>\n",
       "      <td>2500</td>\n",
       "      <td>2500</td>\n",
       "      <td>2500.0</td>\n",
       "      <td>60</td>\n",
       "      <td>15.27</td>\n",
       "      <td>59.83</td>\n",
       "      <td>C</td>\n",
       "      <td>C4</td>\n",
       "      <td>1</td>\n",
       "      <td>...</td>\n",
       "      <td>Apr-13</td>\n",
       "      <td>119.66</td>\n",
       "      <td>Sep-13</td>\n",
       "      <td>0.0</td>\n",
       "      <td>1</td>\n",
       "      <td>INDIVIDUAL</td>\n",
       "      <td>0</td>\n",
       "      <td>0.0</td>\n",
       "      <td>0</td>\n",
       "      <td>0.0</td>\n",
       "    </tr>\n",
       "    <tr>\n",
       "      <th>2</th>\n",
       "      <td>1077175</td>\n",
       "      <td>2400</td>\n",
       "      <td>2400</td>\n",
       "      <td>2400.0</td>\n",
       "      <td>36</td>\n",
       "      <td>15.96</td>\n",
       "      <td>84.33</td>\n",
       "      <td>C</td>\n",
       "      <td>C5</td>\n",
       "      <td>10</td>\n",
       "      <td>...</td>\n",
       "      <td>Jun-14</td>\n",
       "      <td>649.91</td>\n",
       "      <td>May-16</td>\n",
       "      <td>0.0</td>\n",
       "      <td>1</td>\n",
       "      <td>INDIVIDUAL</td>\n",
       "      <td>0</td>\n",
       "      <td>0.0</td>\n",
       "      <td>0</td>\n",
       "      <td>0.0</td>\n",
       "    </tr>\n",
       "    <tr>\n",
       "      <th>3</th>\n",
       "      <td>1076863</td>\n",
       "      <td>10000</td>\n",
       "      <td>10000</td>\n",
       "      <td>10000.0</td>\n",
       "      <td>36</td>\n",
       "      <td>13.49</td>\n",
       "      <td>339.31</td>\n",
       "      <td>C</td>\n",
       "      <td>C1</td>\n",
       "      <td>10</td>\n",
       "      <td>...</td>\n",
       "      <td>Jan-15</td>\n",
       "      <td>357.48</td>\n",
       "      <td>Apr-16</td>\n",
       "      <td>0.0</td>\n",
       "      <td>1</td>\n",
       "      <td>INDIVIDUAL</td>\n",
       "      <td>0</td>\n",
       "      <td>0.0</td>\n",
       "      <td>0</td>\n",
       "      <td>0.0</td>\n",
       "    </tr>\n",
       "    <tr>\n",
       "      <th>4</th>\n",
       "      <td>1075358</td>\n",
       "      <td>3000</td>\n",
       "      <td>3000</td>\n",
       "      <td>3000.0</td>\n",
       "      <td>60</td>\n",
       "      <td>12.69</td>\n",
       "      <td>67.79</td>\n",
       "      <td>B</td>\n",
       "      <td>B5</td>\n",
       "      <td>1</td>\n",
       "      <td>...</td>\n",
       "      <td>May-16</td>\n",
       "      <td>67.79</td>\n",
       "      <td>May-16</td>\n",
       "      <td>0.0</td>\n",
       "      <td>1</td>\n",
       "      <td>INDIVIDUAL</td>\n",
       "      <td>0</td>\n",
       "      <td>0.0</td>\n",
       "      <td>0</td>\n",
       "      <td>0.0</td>\n",
       "    </tr>\n",
       "  </tbody>\n",
       "</table>\n",
       "<p>5 rows × 48 columns</p>\n",
       "</div>"
      ],
      "text/plain": [
       "        id  loan_amnt  funded_amnt  funded_amnt_inv term int_rate  \\\n",
       "0  1077501       5000         5000           4975.0   36    10.65   \n",
       "1  1077430       2500         2500           2500.0   60    15.27   \n",
       "2  1077175       2400         2400           2400.0   36    15.96   \n",
       "3  1076863      10000        10000          10000.0   36    13.49   \n",
       "4  1075358       3000         3000           3000.0   60    12.69   \n",
       "\n",
       "   installment grade sub_grade  emp_length  ... last_pymnt_d  last_pymnt_amnt  \\\n",
       "0       162.87     B        B2          10  ...       Jan-15           171.62   \n",
       "1        59.83     C        C4           1  ...       Apr-13           119.66   \n",
       "2        84.33     C        C5          10  ...       Jun-14           649.91   \n",
       "3       339.31     C        C1          10  ...       Jan-15           357.48   \n",
       "4        67.79     B        B5           1  ...       May-16            67.79   \n",
       "\n",
       "  last_credit_pull_d collections_12_mths_ex_med policy_code application_type  \\\n",
       "0             May-16                        0.0           1       INDIVIDUAL   \n",
       "1             Sep-13                        0.0           1       INDIVIDUAL   \n",
       "2             May-16                        0.0           1       INDIVIDUAL   \n",
       "3             Apr-16                        0.0           1       INDIVIDUAL   \n",
       "4             May-16                        0.0           1       INDIVIDUAL   \n",
       "\n",
       "  acc_now_delinq chargeoff_within_12_mths delinq_amnt  pub_rec_bankruptcies  \n",
       "0              0                      0.0           0                   0.0  \n",
       "1              0                      0.0           0                   0.0  \n",
       "2              0                      0.0           0                   0.0  \n",
       "3              0                      0.0           0                   0.0  \n",
       "4              0                      0.0           0                   0.0  \n",
       "\n",
       "[5 rows x 48 columns]"
      ]
     },
     "execution_count": 22,
     "metadata": {},
     "output_type": "execute_result"
    }
   ],
   "source": [
    "df.head()"
   ]
  },
  {
   "cell_type": "code",
   "execution_count": 23,
   "id": "d39d5fba",
   "metadata": {},
   "outputs": [
    {
     "data": {
      "text/plain": [
       "0        10\n",
       "1         1\n",
       "2        10\n",
       "3        10\n",
       "4         1\n",
       "         ..\n",
       "39712     4\n",
       "39713     3\n",
       "39714     1\n",
       "39715     1\n",
       "39716     1\n",
       "Name: emp_length, Length: 39717, dtype: int64"
      ]
     },
     "execution_count": 23,
     "metadata": {},
     "output_type": "execute_result"
    }
   ],
   "source": [
    "df['emp_length']"
   ]
  },
  {
   "cell_type": "code",
   "execution_count": 24,
   "id": "0cc9a89d",
   "metadata": {},
   "outputs": [
    {
     "name": "stdout",
     "output_type": "stream",
     "text": [
      "<class 'pandas.core.frame.DataFrame'>\n",
      "RangeIndex: 39717 entries, 0 to 39716\n",
      "Data columns (total 48 columns):\n",
      " #   Column                      Non-Null Count  Dtype  \n",
      "---  ------                      --------------  -----  \n",
      " 0   id                          39717 non-null  int64  \n",
      " 1   loan_amnt                   39717 non-null  int64  \n",
      " 2   funded_amnt                 39717 non-null  int64  \n",
      " 3   funded_amnt_inv             39717 non-null  float64\n",
      " 4   term                        39717 non-null  object \n",
      " 5   int_rate                    39717 non-null  object \n",
      " 6   installment                 39717 non-null  float64\n",
      " 7   grade                       39717 non-null  object \n",
      " 8   sub_grade                   39717 non-null  object \n",
      " 9   emp_length                  39717 non-null  int64  \n",
      " 10  home_ownership              39717 non-null  object \n",
      " 11  annual_inc                  39717 non-null  float64\n",
      " 12  verification_status         39717 non-null  object \n",
      " 13  issue_d                     39717 non-null  object \n",
      " 14  loan_status                 39717 non-null  object \n",
      " 15  pymnt_plan                  39717 non-null  object \n",
      " 16  purpose                     39717 non-null  object \n",
      " 17  title                       39706 non-null  object \n",
      " 18  addr_state                  39717 non-null  object \n",
      " 19  dti                         39717 non-null  float64\n",
      " 20  delinq_2yrs                 39717 non-null  int64  \n",
      " 21  earliest_cr_line            39717 non-null  object \n",
      " 22  inq_last_6mths              39717 non-null  int64  \n",
      " 23  open_acc                    39717 non-null  int64  \n",
      " 24  pub_rec                     39717 non-null  int64  \n",
      " 25  revol_bal                   39717 non-null  int64  \n",
      " 26  revol_util                  39667 non-null  object \n",
      " 27  total_acc                   39717 non-null  int64  \n",
      " 28  initial_list_status         39717 non-null  object \n",
      " 29  out_prncp                   39717 non-null  float64\n",
      " 30  out_prncp_inv               39717 non-null  float64\n",
      " 31  total_pymnt                 39717 non-null  float64\n",
      " 32  total_pymnt_inv             39717 non-null  float64\n",
      " 33  total_rec_prncp             39717 non-null  float64\n",
      " 34  total_rec_int               39717 non-null  float64\n",
      " 35  total_rec_late_fee          39717 non-null  float64\n",
      " 36  recoveries                  39717 non-null  float64\n",
      " 37  collection_recovery_fee     39717 non-null  float64\n",
      " 38  last_pymnt_d                39646 non-null  object \n",
      " 39  last_pymnt_amnt             39717 non-null  float64\n",
      " 40  last_credit_pull_d          39715 non-null  object \n",
      " 41  collections_12_mths_ex_med  39661 non-null  float64\n",
      " 42  policy_code                 39717 non-null  int64  \n",
      " 43  application_type            39717 non-null  object \n",
      " 44  acc_now_delinq              39717 non-null  int64  \n",
      " 45  chargeoff_within_12_mths    39661 non-null  float64\n",
      " 46  delinq_amnt                 39717 non-null  int64  \n",
      " 47  pub_rec_bankruptcies        39020 non-null  float64\n",
      "dtypes: float64(17), int64(13), object(18)\n",
      "memory usage: 14.5+ MB\n"
     ]
    }
   ],
   "source": [
    "df.info()"
   ]
  },
  {
   "cell_type": "markdown",
   "id": "d16b8776",
   "metadata": {},
   "source": [
    "Now, the customer behaviour variables are not available at the time of loan application, and thus they cannot be used as predictors for credit approval.\n",
    "\n",
    "Thus, going forward, we will use only the other two types of variables."
   ]
  },
  {
   "cell_type": "code",
   "execution_count": 25,
   "id": "3c97e85a",
   "metadata": {},
   "outputs": [
    {
     "data": {
      "text/plain": [
       "['delinq_2yrs',\n",
       " 'earliest_cr_line',\n",
       " 'inq_last_6mths',\n",
       " 'open_acc',\n",
       " 'pub_rec',\n",
       " 'revol_bal',\n",
       " 'revol_util',\n",
       " 'total_acc',\n",
       " 'out_prncp',\n",
       " 'out_prncp_inv',\n",
       " 'total_pymnt',\n",
       " 'total_pymnt_inv',\n",
       " 'total_rec_prncp',\n",
       " 'total_rec_int',\n",
       " 'total_rec_late_fee',\n",
       " 'recoveries',\n",
       " 'collection_recovery_fee',\n",
       " 'last_pymnt_d',\n",
       " 'last_pymnt_amnt',\n",
       " 'last_credit_pull_d',\n",
       " 'application_type']"
      ]
     },
     "execution_count": 25,
     "metadata": {},
     "output_type": "execute_result"
    }
   ],
   "source": [
    "behaviour_var =  [\n",
    "  \"delinq_2yrs\",\n",
    "  \"earliest_cr_line\",\n",
    "  \"inq_last_6mths\",\n",
    "  \"open_acc\",\n",
    "  \"pub_rec\",\n",
    "  \"revol_bal\",\n",
    "  \"revol_util\",\n",
    "  \"total_acc\",\n",
    "  \"out_prncp\",\n",
    "  \"out_prncp_inv\",\n",
    "  \"total_pymnt\",\n",
    "  \"total_pymnt_inv\",\n",
    "  \"total_rec_prncp\",\n",
    "  \"total_rec_int\",\n",
    "  \"total_rec_late_fee\",\n",
    "  \"recoveries\",\n",
    "  \"collection_recovery_fee\",\n",
    "  \"last_pymnt_d\",\n",
    "  \"last_pymnt_amnt\",\n",
    "  \"last_credit_pull_d\",\n",
    "  \"application_type\"]\n",
    "behaviour_var"
   ]
  },
  {
   "cell_type": "code",
   "execution_count": 328,
   "id": "3f6ac7f1",
   "metadata": {},
   "outputs": [
    {
     "name": "stdout",
     "output_type": "stream",
     "text": [
      "<class 'pandas.core.frame.DataFrame'>\n",
      "RangeIndex: 39717 entries, 0 to 39716\n",
      "Data columns (total 27 columns):\n",
      " #   Column                      Non-Null Count  Dtype  \n",
      "---  ------                      --------------  -----  \n",
      " 0   id                          39717 non-null  int64  \n",
      " 1   loan_amnt                   39717 non-null  int64  \n",
      " 2   funded_amnt                 39717 non-null  int64  \n",
      " 3   funded_amnt_inv             39717 non-null  float64\n",
      " 4   term                        39717 non-null  object \n",
      " 5   int_rate                    39717 non-null  object \n",
      " 6   installment                 39717 non-null  float64\n",
      " 7   grade                       39717 non-null  object \n",
      " 8   sub_grade                   39717 non-null  object \n",
      " 9   emp_length                  39717 non-null  int64  \n",
      " 10  home_ownership              39717 non-null  object \n",
      " 11  annual_inc                  39717 non-null  float64\n",
      " 12  verification_status         39717 non-null  object \n",
      " 13  issue_d                     39717 non-null  object \n",
      " 14  loan_status                 39717 non-null  object \n",
      " 15  pymnt_plan                  39717 non-null  object \n",
      " 16  purpose                     39717 non-null  object \n",
      " 17  title                       39706 non-null  object \n",
      " 18  addr_state                  39717 non-null  object \n",
      " 19  dti                         39717 non-null  float64\n",
      " 20  initial_list_status         39717 non-null  object \n",
      " 21  collections_12_mths_ex_med  39661 non-null  float64\n",
      " 22  policy_code                 39717 non-null  int64  \n",
      " 23  acc_now_delinq              39717 non-null  int64  \n",
      " 24  chargeoff_within_12_mths    39661 non-null  float64\n",
      " 25  delinq_amnt                 39717 non-null  int64  \n",
      " 26  pub_rec_bankruptcies        39020 non-null  float64\n",
      "dtypes: float64(7), int64(7), object(13)\n",
      "memory usage: 8.2+ MB\n"
     ]
    }
   ],
   "source": [
    "df1 = df.drop(behaviour_var, axis=1)\n",
    "df1.info()"
   ]
  },
  {
   "cell_type": "code",
   "execution_count": 329,
   "id": "e1a8e2c0",
   "metadata": {},
   "outputs": [
    {
     "data": {
      "text/plain": [
       "(39717, 27)"
      ]
     },
     "execution_count": 329,
     "metadata": {},
     "output_type": "execute_result"
    }
   ],
   "source": [
    "df1.shape"
   ]
  },
  {
   "cell_type": "markdown",
   "id": "93dd3d7d",
   "metadata": {},
   "source": [
    "Dealing with other missing value"
   ]
  },
  {
   "cell_type": "code",
   "execution_count": 330,
   "id": "331ff18e",
   "metadata": {},
   "outputs": [
    {
     "data": {
      "text/html": [
       "<div>\n",
       "<style scoped>\n",
       "    .dataframe tbody tr th:only-of-type {\n",
       "        vertical-align: middle;\n",
       "    }\n",
       "\n",
       "    .dataframe tbody tr th {\n",
       "        vertical-align: top;\n",
       "    }\n",
       "\n",
       "    .dataframe thead th {\n",
       "        text-align: right;\n",
       "    }\n",
       "</style>\n",
       "<table border=\"1\" class=\"dataframe\">\n",
       "  <thead>\n",
       "    <tr style=\"text-align: right;\">\n",
       "      <th></th>\n",
       "      <th>Total</th>\n",
       "      <th>Percentage of Missing Values</th>\n",
       "    </tr>\n",
       "  </thead>\n",
       "  <tbody>\n",
       "    <tr>\n",
       "      <th>pub_rec_bankruptcies</th>\n",
       "      <td>697</td>\n",
       "      <td>1.754916</td>\n",
       "    </tr>\n",
       "    <tr>\n",
       "      <th>chargeoff_within_12_mths</th>\n",
       "      <td>56</td>\n",
       "      <td>0.140998</td>\n",
       "    </tr>\n",
       "    <tr>\n",
       "      <th>collections_12_mths_ex_med</th>\n",
       "      <td>56</td>\n",
       "      <td>0.140998</td>\n",
       "    </tr>\n",
       "    <tr>\n",
       "      <th>title</th>\n",
       "      <td>11</td>\n",
       "      <td>0.027696</td>\n",
       "    </tr>\n",
       "    <tr>\n",
       "      <th>loan_status</th>\n",
       "      <td>0</td>\n",
       "      <td>0.000000</td>\n",
       "    </tr>\n",
       "    <tr>\n",
       "      <th>delinq_amnt</th>\n",
       "      <td>0</td>\n",
       "      <td>0.000000</td>\n",
       "    </tr>\n",
       "    <tr>\n",
       "      <th>acc_now_delinq</th>\n",
       "      <td>0</td>\n",
       "      <td>0.000000</td>\n",
       "    </tr>\n",
       "    <tr>\n",
       "      <th>policy_code</th>\n",
       "      <td>0</td>\n",
       "      <td>0.000000</td>\n",
       "    </tr>\n",
       "    <tr>\n",
       "      <th>initial_list_status</th>\n",
       "      <td>0</td>\n",
       "      <td>0.000000</td>\n",
       "    </tr>\n",
       "    <tr>\n",
       "      <th>dti</th>\n",
       "      <td>0</td>\n",
       "      <td>0.000000</td>\n",
       "    </tr>\n",
       "    <tr>\n",
       "      <th>addr_state</th>\n",
       "      <td>0</td>\n",
       "      <td>0.000000</td>\n",
       "    </tr>\n",
       "    <tr>\n",
       "      <th>purpose</th>\n",
       "      <td>0</td>\n",
       "      <td>0.000000</td>\n",
       "    </tr>\n",
       "    <tr>\n",
       "      <th>pymnt_plan</th>\n",
       "      <td>0</td>\n",
       "      <td>0.000000</td>\n",
       "    </tr>\n",
       "    <tr>\n",
       "      <th>id</th>\n",
       "      <td>0</td>\n",
       "      <td>0.000000</td>\n",
       "    </tr>\n",
       "    <tr>\n",
       "      <th>loan_amnt</th>\n",
       "      <td>0</td>\n",
       "      <td>0.000000</td>\n",
       "    </tr>\n",
       "  </tbody>\n",
       "</table>\n",
       "</div>"
      ],
      "text/plain": [
       "                            Total  Percentage of Missing Values\n",
       "pub_rec_bankruptcies          697                      1.754916\n",
       "chargeoff_within_12_mths       56                      0.140998\n",
       "collections_12_mths_ex_med     56                      0.140998\n",
       "title                          11                      0.027696\n",
       "loan_status                     0                      0.000000\n",
       "delinq_amnt                     0                      0.000000\n",
       "acc_now_delinq                  0                      0.000000\n",
       "policy_code                     0                      0.000000\n",
       "initial_list_status             0                      0.000000\n",
       "dti                             0                      0.000000\n",
       "addr_state                      0                      0.000000\n",
       "purpose                         0                      0.000000\n",
       "pymnt_plan                      0                      0.000000\n",
       "id                              0                      0.000000\n",
       "loan_amnt                       0                      0.000000"
      ]
     },
     "execution_count": 330,
     "metadata": {},
     "output_type": "execute_result"
    }
   ],
   "source": [
    "Total = df1.isnull().sum().sort_values(ascending=False) \n",
    "Percent = (df1.isnull().sum()*100/df1.isnull().count()).sort_values(ascending=False)   \n",
    "missing_data = pd.concat([Total, Percent], axis = 1, keys = ['Total', 'Percentage of Missing Values'])\n",
    "missing_data.head(15)"
   ]
  },
  {
   "cell_type": "code",
   "execution_count": 331,
   "id": "1e6e42e8",
   "metadata": {},
   "outputs": [
    {
     "data": {
      "text/plain": [
       "Index(['id', 'loan_amnt', 'funded_amnt', 'funded_amnt_inv', 'term', 'int_rate',\n",
       "       'installment', 'grade', 'sub_grade', 'emp_length', 'home_ownership',\n",
       "       'annual_inc', 'verification_status', 'issue_d', 'loan_status',\n",
       "       'pymnt_plan', 'purpose', 'title', 'addr_state', 'dti',\n",
       "       'initial_list_status', 'collections_12_mths_ex_med', 'policy_code',\n",
       "       'acc_now_delinq', 'chargeoff_within_12_mths', 'delinq_amnt',\n",
       "       'pub_rec_bankruptcies'],\n",
       "      dtype='object')"
      ]
     },
     "execution_count": 331,
     "metadata": {},
     "output_type": "execute_result"
    }
   ],
   "source": [
    "df1.isnull().columns"
   ]
  },
  {
   "cell_type": "code",
   "execution_count": 332,
   "id": "5fc72135",
   "metadata": {},
   "outputs": [],
   "source": [
    "#We replace missing values with Median since\n",
    "df1['pub_rec_bankruptcies'] = df1['pub_rec_bankruptcies'].fillna(df1['pub_rec_bankruptcies'].median())"
   ]
  },
  {
   "cell_type": "code",
   "execution_count": 333,
   "id": "3a77431e",
   "metadata": {},
   "outputs": [],
   "source": [
    "df1['chargeoff_within_12_mths'] = df1['chargeoff_within_12_mths'].fillna(df1['chargeoff_within_12_mths'].median())\n",
    "df1['collections_12_mths_ex_med'] = df1['collections_12_mths_ex_med'].fillna(df1['collections_12_mths_ex_med'].median())"
   ]
  },
  {
   "cell_type": "code",
   "execution_count": 334,
   "id": "4ed5544f",
   "metadata": {},
   "outputs": [],
   "source": [
    "#We replace the categorical variables with the mode\n",
    "df1['title'] = df1['title'].fillna(df1['title'].mode()[0])"
   ]
  },
  {
   "cell_type": "code",
   "execution_count": 335,
   "id": "90bd4f24",
   "metadata": {},
   "outputs": [],
   "source": [
    "df2 = df1"
   ]
  },
  {
   "cell_type": "code",
   "execution_count": 336,
   "id": "ee7e7a6c",
   "metadata": {},
   "outputs": [
    {
     "data": {
      "text/html": [
       "<div>\n",
       "<style scoped>\n",
       "    .dataframe tbody tr th:only-of-type {\n",
       "        vertical-align: middle;\n",
       "    }\n",
       "\n",
       "    .dataframe tbody tr th {\n",
       "        vertical-align: top;\n",
       "    }\n",
       "\n",
       "    .dataframe thead th {\n",
       "        text-align: right;\n",
       "    }\n",
       "</style>\n",
       "<table border=\"1\" class=\"dataframe\">\n",
       "  <thead>\n",
       "    <tr style=\"text-align: right;\">\n",
       "      <th></th>\n",
       "      <th>Total</th>\n",
       "      <th>Percentage of Missing Values</th>\n",
       "    </tr>\n",
       "  </thead>\n",
       "  <tbody>\n",
       "    <tr>\n",
       "      <th>id</th>\n",
       "      <td>0</td>\n",
       "      <td>0.0</td>\n",
       "    </tr>\n",
       "    <tr>\n",
       "      <th>loan_status</th>\n",
       "      <td>0</td>\n",
       "      <td>0.0</td>\n",
       "    </tr>\n",
       "    <tr>\n",
       "      <th>delinq_amnt</th>\n",
       "      <td>0</td>\n",
       "      <td>0.0</td>\n",
       "    </tr>\n",
       "    <tr>\n",
       "      <th>chargeoff_within_12_mths</th>\n",
       "      <td>0</td>\n",
       "      <td>0.0</td>\n",
       "    </tr>\n",
       "    <tr>\n",
       "      <th>acc_now_delinq</th>\n",
       "      <td>0</td>\n",
       "      <td>0.0</td>\n",
       "    </tr>\n",
       "    <tr>\n",
       "      <th>policy_code</th>\n",
       "      <td>0</td>\n",
       "      <td>0.0</td>\n",
       "    </tr>\n",
       "    <tr>\n",
       "      <th>collections_12_mths_ex_med</th>\n",
       "      <td>0</td>\n",
       "      <td>0.0</td>\n",
       "    </tr>\n",
       "    <tr>\n",
       "      <th>initial_list_status</th>\n",
       "      <td>0</td>\n",
       "      <td>0.0</td>\n",
       "    </tr>\n",
       "    <tr>\n",
       "      <th>dti</th>\n",
       "      <td>0</td>\n",
       "      <td>0.0</td>\n",
       "    </tr>\n",
       "    <tr>\n",
       "      <th>addr_state</th>\n",
       "      <td>0</td>\n",
       "      <td>0.0</td>\n",
       "    </tr>\n",
       "    <tr>\n",
       "      <th>title</th>\n",
       "      <td>0</td>\n",
       "      <td>0.0</td>\n",
       "    </tr>\n",
       "    <tr>\n",
       "      <th>purpose</th>\n",
       "      <td>0</td>\n",
       "      <td>0.0</td>\n",
       "    </tr>\n",
       "    <tr>\n",
       "      <th>pymnt_plan</th>\n",
       "      <td>0</td>\n",
       "      <td>0.0</td>\n",
       "    </tr>\n",
       "    <tr>\n",
       "      <th>issue_d</th>\n",
       "      <td>0</td>\n",
       "      <td>0.0</td>\n",
       "    </tr>\n",
       "    <tr>\n",
       "      <th>loan_amnt</th>\n",
       "      <td>0</td>\n",
       "      <td>0.0</td>\n",
       "    </tr>\n",
       "  </tbody>\n",
       "</table>\n",
       "</div>"
      ],
      "text/plain": [
       "                            Total  Percentage of Missing Values\n",
       "id                              0                           0.0\n",
       "loan_status                     0                           0.0\n",
       "delinq_amnt                     0                           0.0\n",
       "chargeoff_within_12_mths        0                           0.0\n",
       "acc_now_delinq                  0                           0.0\n",
       "policy_code                     0                           0.0\n",
       "collections_12_mths_ex_med      0                           0.0\n",
       "initial_list_status             0                           0.0\n",
       "dti                             0                           0.0\n",
       "addr_state                      0                           0.0\n",
       "title                           0                           0.0\n",
       "purpose                         0                           0.0\n",
       "pymnt_plan                      0                           0.0\n",
       "issue_d                         0                           0.0\n",
       "loan_amnt                       0                           0.0"
      ]
     },
     "execution_count": 336,
     "metadata": {},
     "output_type": "execute_result"
    }
   ],
   "source": [
    "Total = df2.isnull().sum().sort_values(ascending=False) \n",
    "Percent = (df2.isnull().sum()*100/df2.isnull().count()).sort_values(ascending=False)   \n",
    "missing_data = pd.concat([Total, Percent], axis = 1, keys = ['Total', 'Percentage of Missing Values'])\n",
    "missing_data.head(15)"
   ]
  },
  {
   "cell_type": "code",
   "execution_count": 337,
   "id": "28c60d20",
   "metadata": {},
   "outputs": [
    {
     "data": {
      "text/html": [
       "<div>\n",
       "<style scoped>\n",
       "    .dataframe tbody tr th:only-of-type {\n",
       "        vertical-align: middle;\n",
       "    }\n",
       "\n",
       "    .dataframe tbody tr th {\n",
       "        vertical-align: top;\n",
       "    }\n",
       "\n",
       "    .dataframe thead th {\n",
       "        text-align: right;\n",
       "    }\n",
       "</style>\n",
       "<table border=\"1\" class=\"dataframe\">\n",
       "  <thead>\n",
       "    <tr style=\"text-align: right;\">\n",
       "      <th></th>\n",
       "      <th>id</th>\n",
       "      <th>loan_amnt</th>\n",
       "      <th>funded_amnt</th>\n",
       "      <th>funded_amnt_inv</th>\n",
       "      <th>term</th>\n",
       "      <th>int_rate</th>\n",
       "      <th>installment</th>\n",
       "      <th>grade</th>\n",
       "      <th>sub_grade</th>\n",
       "      <th>emp_length</th>\n",
       "      <th>...</th>\n",
       "      <th>title</th>\n",
       "      <th>addr_state</th>\n",
       "      <th>dti</th>\n",
       "      <th>initial_list_status</th>\n",
       "      <th>collections_12_mths_ex_med</th>\n",
       "      <th>policy_code</th>\n",
       "      <th>acc_now_delinq</th>\n",
       "      <th>chargeoff_within_12_mths</th>\n",
       "      <th>delinq_amnt</th>\n",
       "      <th>pub_rec_bankruptcies</th>\n",
       "    </tr>\n",
       "  </thead>\n",
       "  <tbody>\n",
       "    <tr>\n",
       "      <th>0</th>\n",
       "      <td>1077501</td>\n",
       "      <td>5000</td>\n",
       "      <td>5000</td>\n",
       "      <td>4975.0</td>\n",
       "      <td>36</td>\n",
       "      <td>10.65</td>\n",
       "      <td>162.87</td>\n",
       "      <td>B</td>\n",
       "      <td>B2</td>\n",
       "      <td>10</td>\n",
       "      <td>...</td>\n",
       "      <td>Computer</td>\n",
       "      <td>AZ</td>\n",
       "      <td>27.65</td>\n",
       "      <td>f</td>\n",
       "      <td>0.0</td>\n",
       "      <td>1</td>\n",
       "      <td>0</td>\n",
       "      <td>0.0</td>\n",
       "      <td>0</td>\n",
       "      <td>0.0</td>\n",
       "    </tr>\n",
       "    <tr>\n",
       "      <th>1</th>\n",
       "      <td>1077430</td>\n",
       "      <td>2500</td>\n",
       "      <td>2500</td>\n",
       "      <td>2500.0</td>\n",
       "      <td>60</td>\n",
       "      <td>15.27</td>\n",
       "      <td>59.83</td>\n",
       "      <td>C</td>\n",
       "      <td>C4</td>\n",
       "      <td>1</td>\n",
       "      <td>...</td>\n",
       "      <td>bike</td>\n",
       "      <td>GA</td>\n",
       "      <td>1.00</td>\n",
       "      <td>f</td>\n",
       "      <td>0.0</td>\n",
       "      <td>1</td>\n",
       "      <td>0</td>\n",
       "      <td>0.0</td>\n",
       "      <td>0</td>\n",
       "      <td>0.0</td>\n",
       "    </tr>\n",
       "    <tr>\n",
       "      <th>2</th>\n",
       "      <td>1077175</td>\n",
       "      <td>2400</td>\n",
       "      <td>2400</td>\n",
       "      <td>2400.0</td>\n",
       "      <td>36</td>\n",
       "      <td>15.96</td>\n",
       "      <td>84.33</td>\n",
       "      <td>C</td>\n",
       "      <td>C5</td>\n",
       "      <td>10</td>\n",
       "      <td>...</td>\n",
       "      <td>real estate business</td>\n",
       "      <td>IL</td>\n",
       "      <td>8.72</td>\n",
       "      <td>f</td>\n",
       "      <td>0.0</td>\n",
       "      <td>1</td>\n",
       "      <td>0</td>\n",
       "      <td>0.0</td>\n",
       "      <td>0</td>\n",
       "      <td>0.0</td>\n",
       "    </tr>\n",
       "    <tr>\n",
       "      <th>3</th>\n",
       "      <td>1076863</td>\n",
       "      <td>10000</td>\n",
       "      <td>10000</td>\n",
       "      <td>10000.0</td>\n",
       "      <td>36</td>\n",
       "      <td>13.49</td>\n",
       "      <td>339.31</td>\n",
       "      <td>C</td>\n",
       "      <td>C1</td>\n",
       "      <td>10</td>\n",
       "      <td>...</td>\n",
       "      <td>personel</td>\n",
       "      <td>CA</td>\n",
       "      <td>20.00</td>\n",
       "      <td>f</td>\n",
       "      <td>0.0</td>\n",
       "      <td>1</td>\n",
       "      <td>0</td>\n",
       "      <td>0.0</td>\n",
       "      <td>0</td>\n",
       "      <td>0.0</td>\n",
       "    </tr>\n",
       "    <tr>\n",
       "      <th>4</th>\n",
       "      <td>1075358</td>\n",
       "      <td>3000</td>\n",
       "      <td>3000</td>\n",
       "      <td>3000.0</td>\n",
       "      <td>60</td>\n",
       "      <td>12.69</td>\n",
       "      <td>67.79</td>\n",
       "      <td>B</td>\n",
       "      <td>B5</td>\n",
       "      <td>1</td>\n",
       "      <td>...</td>\n",
       "      <td>Personal</td>\n",
       "      <td>OR</td>\n",
       "      <td>17.94</td>\n",
       "      <td>f</td>\n",
       "      <td>0.0</td>\n",
       "      <td>1</td>\n",
       "      <td>0</td>\n",
       "      <td>0.0</td>\n",
       "      <td>0</td>\n",
       "      <td>0.0</td>\n",
       "    </tr>\n",
       "  </tbody>\n",
       "</table>\n",
       "<p>5 rows × 27 columns</p>\n",
       "</div>"
      ],
      "text/plain": [
       "        id  loan_amnt  funded_amnt  funded_amnt_inv term int_rate  \\\n",
       "0  1077501       5000         5000           4975.0   36    10.65   \n",
       "1  1077430       2500         2500           2500.0   60    15.27   \n",
       "2  1077175       2400         2400           2400.0   36    15.96   \n",
       "3  1076863      10000        10000          10000.0   36    13.49   \n",
       "4  1075358       3000         3000           3000.0   60    12.69   \n",
       "\n",
       "   installment grade sub_grade  emp_length  ...                 title  \\\n",
       "0       162.87     B        B2          10  ...              Computer   \n",
       "1        59.83     C        C4           1  ...                  bike   \n",
       "2        84.33     C        C5          10  ...  real estate business   \n",
       "3       339.31     C        C1          10  ...              personel   \n",
       "4        67.79     B        B5           1  ...              Personal   \n",
       "\n",
       "   addr_state    dti initial_list_status collections_12_mths_ex_med  \\\n",
       "0          AZ  27.65                   f                        0.0   \n",
       "1          GA   1.00                   f                        0.0   \n",
       "2          IL   8.72                   f                        0.0   \n",
       "3          CA  20.00                   f                        0.0   \n",
       "4          OR  17.94                   f                        0.0   \n",
       "\n",
       "  policy_code acc_now_delinq chargeoff_within_12_mths delinq_amnt  \\\n",
       "0           1              0                      0.0           0   \n",
       "1           1              0                      0.0           0   \n",
       "2           1              0                      0.0           0   \n",
       "3           1              0                      0.0           0   \n",
       "4           1              0                      0.0           0   \n",
       "\n",
       "   pub_rec_bankruptcies  \n",
       "0                   0.0  \n",
       "1                   0.0  \n",
       "2                   0.0  \n",
       "3                   0.0  \n",
       "4                   0.0  \n",
       "\n",
       "[5 rows x 27 columns]"
      ]
     },
     "execution_count": 337,
     "metadata": {},
     "output_type": "execute_result"
    }
   ],
   "source": [
    "df2.head()"
   ]
  },
  {
   "cell_type": "code",
   "execution_count": 338,
   "id": "02a6e400",
   "metadata": {},
   "outputs": [
    {
     "name": "stdout",
     "output_type": "stream",
     "text": [
      "<class 'pandas.core.frame.DataFrame'>\n",
      "RangeIndex: 39717 entries, 0 to 39716\n",
      "Data columns (total 27 columns):\n",
      " #   Column                      Non-Null Count  Dtype  \n",
      "---  ------                      --------------  -----  \n",
      " 0   id                          39717 non-null  int64  \n",
      " 1   loan_amnt                   39717 non-null  int64  \n",
      " 2   funded_amnt                 39717 non-null  int64  \n",
      " 3   funded_amnt_inv             39717 non-null  float64\n",
      " 4   term                        39717 non-null  object \n",
      " 5   int_rate                    39717 non-null  object \n",
      " 6   installment                 39717 non-null  float64\n",
      " 7   grade                       39717 non-null  object \n",
      " 8   sub_grade                   39717 non-null  object \n",
      " 9   emp_length                  39717 non-null  int64  \n",
      " 10  home_ownership              39717 non-null  object \n",
      " 11  annual_inc                  39717 non-null  float64\n",
      " 12  verification_status         39717 non-null  object \n",
      " 13  issue_d                     39717 non-null  object \n",
      " 14  loan_status                 39717 non-null  object \n",
      " 15  pymnt_plan                  39717 non-null  object \n",
      " 16  purpose                     39717 non-null  object \n",
      " 17  title                       39717 non-null  object \n",
      " 18  addr_state                  39717 non-null  object \n",
      " 19  dti                         39717 non-null  float64\n",
      " 20  initial_list_status         39717 non-null  object \n",
      " 21  collections_12_mths_ex_med  39717 non-null  float64\n",
      " 22  policy_code                 39717 non-null  int64  \n",
      " 23  acc_now_delinq              39717 non-null  int64  \n",
      " 24  chargeoff_within_12_mths    39717 non-null  float64\n",
      " 25  delinq_amnt                 39717 non-null  int64  \n",
      " 26  pub_rec_bankruptcies        39717 non-null  float64\n",
      "dtypes: float64(7), int64(7), object(13)\n",
      "memory usage: 8.2+ MB\n"
     ]
    }
   ],
   "source": [
    "df2.info()"
   ]
  },
  {
   "cell_type": "code",
   "execution_count": 339,
   "id": "cce65aa6",
   "metadata": {},
   "outputs": [
    {
     "data": {
      "text/plain": [
       "['term',\n",
       " 'int_rate',\n",
       " 'grade',\n",
       " 'sub_grade',\n",
       " 'home_ownership',\n",
       " 'verification_status',\n",
       " 'issue_d',\n",
       " 'loan_status',\n",
       " 'pymnt_plan',\n",
       " 'purpose',\n",
       " 'title',\n",
       " 'addr_state',\n",
       " 'initial_list_status']"
      ]
     },
     "execution_count": 339,
     "metadata": {},
     "output_type": "execute_result"
    }
   ],
   "source": [
    "#Object type column\n",
    "list(df2.select_dtypes(['object']).columns)"
   ]
  },
  {
   "cell_type": "code",
   "execution_count": 340,
   "id": "e4f181d0",
   "metadata": {},
   "outputs": [],
   "source": [
    "# convert to numeric\n",
    "df2['term'] = df2['term'].apply(lambda x: pd.to_numeric(x))"
   ]
  },
  {
   "cell_type": "code",
   "execution_count": 341,
   "id": "5f51fe72",
   "metadata": {},
   "outputs": [],
   "source": [
    "df2[['int_rate','dti']] = df2[['int_rate','dti']].apply(lambda x: pd.to_numeric(x))"
   ]
  },
  {
   "cell_type": "code",
   "execution_count": 342,
   "id": "558e01b6",
   "metadata": {},
   "outputs": [],
   "source": [
    "df2[['loan_amnt','funded_amnt','installment']] = df2[['loan_amnt','funded_amnt','installment']].apply(lambda x: pd.to_numeric(x))"
   ]
  },
  {
   "cell_type": "code",
   "execution_count": 343,
   "id": "96efbdc7",
   "metadata": {},
   "outputs": [],
   "source": [
    "df2['collections_12_mths_ex_med'] = df2['collections_12_mths_ex_med'].apply(lambda x: pd.to_numeric(x))"
   ]
  },
  {
   "cell_type": "code",
   "execution_count": 344,
   "id": "466dbeb3",
   "metadata": {},
   "outputs": [
    {
     "data": {
      "text/plain": [
       "['grade',\n",
       " 'sub_grade',\n",
       " 'home_ownership',\n",
       " 'verification_status',\n",
       " 'issue_d',\n",
       " 'loan_status',\n",
       " 'pymnt_plan',\n",
       " 'purpose',\n",
       " 'title',\n",
       " 'addr_state',\n",
       " 'initial_list_status']"
      ]
     },
     "execution_count": 344,
     "metadata": {},
     "output_type": "execute_result"
    }
   ],
   "source": [
    "list(df2.select_dtypes(['object']).columns)"
   ]
  },
  {
   "cell_type": "code",
   "execution_count": 345,
   "id": "ab5a9949",
   "metadata": {},
   "outputs": [
    {
     "name": "stdout",
     "output_type": "stream",
     "text": [
      "<class 'pandas.core.frame.DataFrame'>\n",
      "RangeIndex: 39717 entries, 0 to 39716\n",
      "Data columns (total 27 columns):\n",
      " #   Column                      Non-Null Count  Dtype  \n",
      "---  ------                      --------------  -----  \n",
      " 0   id                          39717 non-null  int64  \n",
      " 1   loan_amnt                   39717 non-null  int64  \n",
      " 2   funded_amnt                 39717 non-null  int64  \n",
      " 3   funded_amnt_inv             39717 non-null  float64\n",
      " 4   term                        39717 non-null  int64  \n",
      " 5   int_rate                    39717 non-null  float64\n",
      " 6   installment                 39717 non-null  float64\n",
      " 7   grade                       39717 non-null  object \n",
      " 8   sub_grade                   39717 non-null  object \n",
      " 9   emp_length                  39717 non-null  int64  \n",
      " 10  home_ownership              39717 non-null  object \n",
      " 11  annual_inc                  39717 non-null  float64\n",
      " 12  verification_status         39717 non-null  object \n",
      " 13  issue_d                     39717 non-null  object \n",
      " 14  loan_status                 39717 non-null  object \n",
      " 15  pymnt_plan                  39717 non-null  object \n",
      " 16  purpose                     39717 non-null  object \n",
      " 17  title                       39717 non-null  object \n",
      " 18  addr_state                  39717 non-null  object \n",
      " 19  dti                         39717 non-null  float64\n",
      " 20  initial_list_status         39717 non-null  object \n",
      " 21  collections_12_mths_ex_med  39717 non-null  float64\n",
      " 22  policy_code                 39717 non-null  int64  \n",
      " 23  acc_now_delinq              39717 non-null  int64  \n",
      " 24  chargeoff_within_12_mths    39717 non-null  float64\n",
      " 25  delinq_amnt                 39717 non-null  int64  \n",
      " 26  pub_rec_bankruptcies        39717 non-null  float64\n",
      "dtypes: float64(8), int64(8), object(11)\n",
      "memory usage: 8.2+ MB\n"
     ]
    }
   ],
   "source": [
    "df2.info()"
   ]
  },
  {
   "cell_type": "code",
   "execution_count": null,
   "id": "c98e0f10",
   "metadata": {},
   "outputs": [],
   "source": []
  },
  {
   "cell_type": "markdown",
   "id": "0ae74d59",
   "metadata": {},
   "source": [
    "Now all missing values have been replaced and 27 columns remain even after dropping unimportant columns."
   ]
  },
  {
   "cell_type": "markdown",
   "id": "303bfae4",
   "metadata": {},
   "source": [
    "#### Correlation"
   ]
  },
  {
   "cell_type": "markdown",
   "id": "dcc9f5c9",
   "metadata": {},
   "source": [
    "In order to compute the correlation matrix, we perform the following:\n",
    "\n",
    "                1. Filter out only the numeric variables from the dataframe using select_dtypes() function<br>\n",
    "                2. Call the corr() function which will return the correlation matrix of numeric variables <br>\n",
    "                3. Pass the correlation matrix to the heatmap() function of the seaborn library to plot the heatmap of the correlation matrix"
   ]
  },
  {
   "cell_type": "code",
   "execution_count": 346,
   "id": "7f7dc5a3",
   "metadata": {},
   "outputs": [
    {
     "data": {
      "text/plain": [
       "Index(['id', 'loan_amnt', 'funded_amnt', 'funded_amnt_inv', 'term', 'int_rate',\n",
       "       'installment', 'emp_length', 'annual_inc', 'dti',\n",
       "       'collections_12_mths_ex_med', 'policy_code', 'acc_now_delinq',\n",
       "       'chargeoff_within_12_mths', 'delinq_amnt', 'pub_rec_bankruptcies'],\n",
       "      dtype='object')"
      ]
     },
     "execution_count": 346,
     "metadata": {},
     "output_type": "execute_result"
    }
   ],
   "source": [
    "df_num_features = df2.select_dtypes(include=np.number)\n",
    "df_num_features.columns"
   ]
  },
  {
   "cell_type": "code",
   "execution_count": 347,
   "id": "6066e9cf",
   "metadata": {},
   "outputs": [],
   "source": [
    "corr =  df_num_features.corr()"
   ]
  },
  {
   "cell_type": "code",
   "execution_count": 348,
   "id": "6634a0d3",
   "metadata": {},
   "outputs": [
    {
     "data": {
      "image/png": "[encoded data removed]",
      "text/plain": [
       "<Figure size 1080x576 with 2 Axes>"
      ]
     },
     "metadata": {
      "needs_background": "light"
     },
     "output_type": "display_data"
    }
   ],
   "source": [
    "plt.figure(figsize=(15, 8))\n",
    "sns.heatmap(corr, cmap='YlGnBu', vmax=1.0, vmin=-1.0, annot = True, annot_kws={\"size\": 15}, )\n",
    "plt.title('Correlation between numeric features')\n",
    "plt.show()"
   ]
  },
  {
   "cell_type": "code",
   "execution_count": 349,
   "id": "bcedf100",
   "metadata": {},
   "outputs": [
    {
     "data": {
      "text/html": [
       "<div>\n",
       "<style scoped>\n",
       "    .dataframe tbody tr th:only-of-type {\n",
       "        vertical-align: middle;\n",
       "    }\n",
       "\n",
       "    .dataframe tbody tr th {\n",
       "        vertical-align: top;\n",
       "    }\n",
       "\n",
       "    .dataframe thead th {\n",
       "        text-align: right;\n",
       "    }\n",
       "</style>\n",
       "<table border=\"1\" class=\"dataframe\">\n",
       "  <thead>\n",
       "    <tr style=\"text-align: right;\">\n",
       "      <th></th>\n",
       "      <th>id</th>\n",
       "      <th>loan_amnt</th>\n",
       "      <th>funded_amnt</th>\n",
       "      <th>funded_amnt_inv</th>\n",
       "      <th>term</th>\n",
       "      <th>int_rate</th>\n",
       "      <th>installment</th>\n",
       "      <th>grade</th>\n",
       "      <th>sub_grade</th>\n",
       "      <th>emp_length</th>\n",
       "      <th>...</th>\n",
       "      <th>title</th>\n",
       "      <th>addr_state</th>\n",
       "      <th>dti</th>\n",
       "      <th>initial_list_status</th>\n",
       "      <th>collections_12_mths_ex_med</th>\n",
       "      <th>policy_code</th>\n",
       "      <th>acc_now_delinq</th>\n",
       "      <th>chargeoff_within_12_mths</th>\n",
       "      <th>delinq_amnt</th>\n",
       "      <th>pub_rec_bankruptcies</th>\n",
       "    </tr>\n",
       "  </thead>\n",
       "  <tbody>\n",
       "    <tr>\n",
       "      <th>0</th>\n",
       "      <td>1077501</td>\n",
       "      <td>5000</td>\n",
       "      <td>5000</td>\n",
       "      <td>4975.0</td>\n",
       "      <td>36</td>\n",
       "      <td>10.65</td>\n",
       "      <td>162.87</td>\n",
       "      <td>B</td>\n",
       "      <td>B2</td>\n",
       "      <td>10</td>\n",
       "      <td>...</td>\n",
       "      <td>Computer</td>\n",
       "      <td>AZ</td>\n",
       "      <td>27.65</td>\n",
       "      <td>f</td>\n",
       "      <td>0.0</td>\n",
       "      <td>1</td>\n",
       "      <td>0</td>\n",
       "      <td>0.0</td>\n",
       "      <td>0</td>\n",
       "      <td>0.0</td>\n",
       "    </tr>\n",
       "    <tr>\n",
       "      <th>1</th>\n",
       "      <td>1077430</td>\n",
       "      <td>2500</td>\n",
       "      <td>2500</td>\n",
       "      <td>2500.0</td>\n",
       "      <td>60</td>\n",
       "      <td>15.27</td>\n",
       "      <td>59.83</td>\n",
       "      <td>C</td>\n",
       "      <td>C4</td>\n",
       "      <td>1</td>\n",
       "      <td>...</td>\n",
       "      <td>bike</td>\n",
       "      <td>GA</td>\n",
       "      <td>1.00</td>\n",
       "      <td>f</td>\n",
       "      <td>0.0</td>\n",
       "      <td>1</td>\n",
       "      <td>0</td>\n",
       "      <td>0.0</td>\n",
       "      <td>0</td>\n",
       "      <td>0.0</td>\n",
       "    </tr>\n",
       "    <tr>\n",
       "      <th>2</th>\n",
       "      <td>1077175</td>\n",
       "      <td>2400</td>\n",
       "      <td>2400</td>\n",
       "      <td>2400.0</td>\n",
       "      <td>36</td>\n",
       "      <td>15.96</td>\n",
       "      <td>84.33</td>\n",
       "      <td>C</td>\n",
       "      <td>C5</td>\n",
       "      <td>10</td>\n",
       "      <td>...</td>\n",
       "      <td>real estate business</td>\n",
       "      <td>IL</td>\n",
       "      <td>8.72</td>\n",
       "      <td>f</td>\n",
       "      <td>0.0</td>\n",
       "      <td>1</td>\n",
       "      <td>0</td>\n",
       "      <td>0.0</td>\n",
       "      <td>0</td>\n",
       "      <td>0.0</td>\n",
       "    </tr>\n",
       "    <tr>\n",
       "      <th>3</th>\n",
       "      <td>1076863</td>\n",
       "      <td>10000</td>\n",
       "      <td>10000</td>\n",
       "      <td>10000.0</td>\n",
       "      <td>36</td>\n",
       "      <td>13.49</td>\n",
       "      <td>339.31</td>\n",
       "      <td>C</td>\n",
       "      <td>C1</td>\n",
       "      <td>10</td>\n",
       "      <td>...</td>\n",
       "      <td>personel</td>\n",
       "      <td>CA</td>\n",
       "      <td>20.00</td>\n",
       "      <td>f</td>\n",
       "      <td>0.0</td>\n",
       "      <td>1</td>\n",
       "      <td>0</td>\n",
       "      <td>0.0</td>\n",
       "      <td>0</td>\n",
       "      <td>0.0</td>\n",
       "    </tr>\n",
       "    <tr>\n",
       "      <th>4</th>\n",
       "      <td>1075358</td>\n",
       "      <td>3000</td>\n",
       "      <td>3000</td>\n",
       "      <td>3000.0</td>\n",
       "      <td>60</td>\n",
       "      <td>12.69</td>\n",
       "      <td>67.79</td>\n",
       "      <td>B</td>\n",
       "      <td>B5</td>\n",
       "      <td>1</td>\n",
       "      <td>...</td>\n",
       "      <td>Personal</td>\n",
       "      <td>OR</td>\n",
       "      <td>17.94</td>\n",
       "      <td>f</td>\n",
       "      <td>0.0</td>\n",
       "      <td>1</td>\n",
       "      <td>0</td>\n",
       "      <td>0.0</td>\n",
       "      <td>0</td>\n",
       "      <td>0.0</td>\n",
       "    </tr>\n",
       "  </tbody>\n",
       "</table>\n",
       "<p>5 rows × 27 columns</p>\n",
       "</div>"
      ],
      "text/plain": [
       "        id  loan_amnt  funded_amnt  funded_amnt_inv  term  int_rate  \\\n",
       "0  1077501       5000         5000           4975.0    36     10.65   \n",
       "1  1077430       2500         2500           2500.0    60     15.27   \n",
       "2  1077175       2400         2400           2400.0    36     15.96   \n",
       "3  1076863      10000        10000          10000.0    36     13.49   \n",
       "4  1075358       3000         3000           3000.0    60     12.69   \n",
       "\n",
       "   installment grade sub_grade  emp_length  ...                 title  \\\n",
       "0       162.87     B        B2          10  ...              Computer   \n",
       "1        59.83     C        C4           1  ...                  bike   \n",
       "2        84.33     C        C5          10  ...  real estate business   \n",
       "3       339.31     C        C1          10  ...              personel   \n",
       "4        67.79     B        B5           1  ...              Personal   \n",
       "\n",
       "   addr_state    dti initial_list_status collections_12_mths_ex_med  \\\n",
       "0          AZ  27.65                   f                        0.0   \n",
       "1          GA   1.00                   f                        0.0   \n",
       "2          IL   8.72                   f                        0.0   \n",
       "3          CA  20.00                   f                        0.0   \n",
       "4          OR  17.94                   f                        0.0   \n",
       "\n",
       "  policy_code acc_now_delinq chargeoff_within_12_mths delinq_amnt  \\\n",
       "0           1              0                      0.0           0   \n",
       "1           1              0                      0.0           0   \n",
       "2           1              0                      0.0           0   \n",
       "3           1              0                      0.0           0   \n",
       "4           1              0                      0.0           0   \n",
       "\n",
       "   pub_rec_bankruptcies  \n",
       "0                   0.0  \n",
       "1                   0.0  \n",
       "2                   0.0  \n",
       "3                   0.0  \n",
       "4                   0.0  \n",
       "\n",
       "[5 rows x 27 columns]"
      ]
     },
     "execution_count": 349,
     "metadata": {},
     "output_type": "execute_result"
    }
   ],
   "source": [
    "df2.head()"
   ]
  },
  {
   "cell_type": "markdown",
   "id": "edf6150f",
   "metadata": {},
   "source": [
    "# Data Analysis on Loan Dataset"
   ]
  },
  {
   "cell_type": "markdown",
   "id": "038e969d",
   "metadata": {},
   "source": [
    "#### Dependent variable"
   ]
  },
  {
   "cell_type": "raw",
   "id": "e043525d",
   "metadata": {},
   "source": [
    "# Let's take a look at the dependent variable Loan_status."
   ]
  },
  {
   "cell_type": "code",
   "execution_count": 350,
   "id": "fe3edb09",
   "metadata": {},
   "outputs": [
    {
     "data": {
      "text/plain": [
       "Fully Paid     82.961956\n",
       "Charged Off    14.167737\n",
       "Current         2.870307\n",
       "Name: loan_status, dtype: float64"
      ]
     },
     "execution_count": 350,
     "metadata": {},
     "output_type": "execute_result"
    }
   ],
   "source": [
    "(df2.loan_status.value_counts()*100)/len(df)"
   ]
  },
  {
   "cell_type": "raw",
   "id": "4154ef8c",
   "metadata": {},
   "source": [
    "# You can see that fully paid comprises most of the loans. The ones marked 'current' are neither fully paid not defaulted, so let's get rid of the current loans. Also, let's tag the other two values as 0 or 1."
   ]
  },
  {
   "cell_type": "code",
   "execution_count": 351,
   "id": "5b63e7d3",
   "metadata": {},
   "outputs": [],
   "source": [
    "# For ML model, current loans we will consider as Charged Off for factor of safety.                        \n",
    "df2['loan_status'] = df2['loan_status'].replace('Current', 'Charged Off')"
   ]
  },
  {
   "cell_type": "code",
   "execution_count": 352,
   "id": "b7fba68d",
   "metadata": {},
   "outputs": [
    {
     "data": {
      "text/plain": [
       "Fully Paid     82.961956\n",
       "Charged Off    17.038044\n",
       "Name: loan_status, dtype: float64"
      ]
     },
     "execution_count": 352,
     "metadata": {},
     "output_type": "execute_result"
    }
   ],
   "source": [
    "(df2.loan_status.value_counts()*100)/len(df)"
   ]
  },
  {
   "cell_type": "code",
   "execution_count": 353,
   "id": "7f255214",
   "metadata": {},
   "outputs": [
    {
     "data": {
      "text/plain": [
       "0    32950\n",
       "1     6767\n",
       "Name: loan_status, dtype: int64"
      ]
     },
     "execution_count": 353,
     "metadata": {},
     "output_type": "execute_result"
    }
   ],
   "source": [
    "df2['loan_status'] = df2['loan_status'].apply(lambda x: 0 if x=='Fully Paid' else 1)\n",
    "\n",
    "# converting loan_status to integer type\n",
    "df2['loan_status'] = df2['loan_status'].apply(lambda x: pd.to_numeric(x))\n",
    "\n",
    "df2['loan_status'].value_counts()"
   ]
  },
  {
   "cell_type": "code",
   "execution_count": 354,
   "id": "ead6ad0a",
   "metadata": {},
   "outputs": [],
   "source": [
    "# Dependent variable is loan status and independent variables are grade, sub grade, term, home ownership, verification status, purpose, year, month, loan amnt, funded amnt inv,  \n",
    "# int_rate, dti (debt to income ratio), installment, annual_inc, emp_length. "
   ]
  },
  {
   "cell_type": "code",
   "execution_count": 355,
   "id": "84829f8d",
   "metadata": {},
   "outputs": [
    {
     "data": {
      "text/plain": [
       "count    39717.000000\n",
       "mean         0.170380\n",
       "std          0.375971\n",
       "min          0.000000\n",
       "25%          0.000000\n",
       "50%          0.000000\n",
       "75%          0.000000\n",
       "max          1.000000\n",
       "Name: loan_status, dtype: float64"
      ]
     },
     "execution_count": 355,
     "metadata": {},
     "output_type": "execute_result"
    }
   ],
   "source": [
    "#loan status basic statistics\n",
    "df2['loan_status'].describe()"
   ]
  },
  {
   "cell_type": "code",
   "execution_count": 356,
   "id": "6f4fb406",
   "metadata": {},
   "outputs": [
    {
     "data": {
      "text/plain": [
       "0    32950\n",
       "1     6767\n",
       "Name: loan_status, dtype: int64"
      ]
     },
     "execution_count": 356,
     "metadata": {},
     "output_type": "execute_result"
    }
   ],
   "source": [
    "#loan status count\n",
    "df2['loan_status'].value_counts()"
   ]
  },
  {
   "cell_type": "code",
   "execution_count": 357,
   "id": "86324b1a",
   "metadata": {},
   "outputs": [
    {
     "data": {
      "text/plain": [
       "count    39717.000000\n",
       "mean     11219.443815\n",
       "std       7456.670694\n",
       "min        500.000000\n",
       "25%       5500.000000\n",
       "50%      10000.000000\n",
       "75%      15000.000000\n",
       "max      35000.000000\n",
       "Name: loan_amnt, dtype: float64"
      ]
     },
     "execution_count": 357,
     "metadata": {},
     "output_type": "execute_result"
    }
   ],
   "source": [
    "#loan amount basic statistics\n",
    "df2['loan_amnt'].describe()"
   ]
  },
  {
   "cell_type": "markdown",
   "id": "79a30241",
   "metadata": {},
   "source": [
    "# Univariate Analysis"
   ]
  },
  {
   "cell_type": "code",
   "execution_count": 288,
   "id": "552046ec",
   "metadata": {},
   "outputs": [
    {
     "data": {
      "text/plain": [
       "<AxesSubplot:xlabel='loan_amnt'>"
      ]
     },
     "execution_count": 288,
     "metadata": {},
     "output_type": "execute_result"
    },
    {
     "data": {
      "image/png": "[encoded data removed]",
      "text/plain": [
       "<Figure size 432x288 with 1 Axes>"
      ]
     },
     "metadata": {
      "needs_background": "light"
     },
     "output_type": "display_data"
    }
   ],
   "source": [
    "#loan amount boxplot\n",
    "sns.boxplot(df2.loan_amnt)"
   ]
  },
  {
   "cell_type": "code",
   "execution_count": 289,
   "id": "c3f3adcb",
   "metadata": {},
   "outputs": [
    {
     "data": {
      "text/plain": [
       "<AxesSubplot:xlabel='loan_amnt', ylabel='Density'>"
      ]
     },
     "execution_count": 289,
     "metadata": {},
     "output_type": "execute_result"
    },
    {
     "data": {
      "image/png": "[encoded data removed]",
      "text/plain": [
       "<Figure size 432x288 with 1 Axes>"
      ]
     },
     "metadata": {
      "needs_background": "light"
     },
     "output_type": "display_data"
    }
   ],
   "source": [
    "#loan amount distplot\n",
    "sns.distplot(df2[\"loan_amnt\"])"
   ]
  },
  {
   "cell_type": "code",
   "execution_count": 290,
   "id": "2c212df5",
   "metadata": {},
   "outputs": [
    {
     "data": {
      "image/png": "[encoded data removed]",
      "text/plain": [
       "<Figure size 432x288 with 1 Axes>"
      ]
     },
     "metadata": {
      "needs_background": "light"
     },
     "output_type": "display_data"
    }
   ],
   "source": [
    "#fumded amount distplot\n",
    "ax = sns.distplot(df['funded_amnt'],rug = True)"
   ]
  },
  {
   "cell_type": "code",
   "execution_count": 291,
   "id": "e86b7c03",
   "metadata": {},
   "outputs": [
    {
     "data": {
      "image/png": "[encoded data removed]",
      "text/plain": [
       "<Figure size 432x288 with 1 Axes>"
      ]
     },
     "metadata": {
      "needs_background": "light"
     },
     "output_type": "display_data"
    }
   ],
   "source": [
    "#funded amount inv, distplot\n",
    "ax = sns.distplot(df2['funded_amnt_inv'],rug = True)"
   ]
  },
  {
   "cell_type": "code",
   "execution_count": 292,
   "id": "d122da2b",
   "metadata": {},
   "outputs": [
    {
     "data": {
      "text/plain": [
       "10000    2833\n",
       "12000    2334\n",
       "5000     2051\n",
       "6000     1908\n",
       "15000    1895\n",
       "         ... \n",
       "22875       1\n",
       "8175        1\n",
       "19475       1\n",
       "21225       1\n",
       "22550       1\n",
       "Name: loan_amnt, Length: 885, dtype: int64"
      ]
     },
     "execution_count": 292,
     "metadata": {},
     "output_type": "execute_result"
    }
   ],
   "source": [
    "#loan amount count of values\n",
    "df2['loan_amnt'].value_counts()"
   ]
  },
  {
   "cell_type": "code",
   "execution_count": 293,
   "id": "731fd348",
   "metadata": {},
   "outputs": [
    {
     "data": {
      "text/plain": [
       "<AxesSubplot:xlabel='int_rate', ylabel='Density'>"
      ]
     },
     "execution_count": 293,
     "metadata": {},
     "output_type": "execute_result"
    },
    {
     "data": {
      "image/png": "[encoded data removed]",
      "text/plain": [
       "<Figure size 432x288 with 1 Axes>"
      ]
     },
     "metadata": {
      "needs_background": "light"
     },
     "output_type": "display_data"
    }
   ],
   "source": [
    "#interest rate distplot\n",
    "sns.distplot(df2['int_rate'],rug = True)"
   ]
  },
  {
   "cell_type": "code",
   "execution_count": 294,
   "id": "3984b72a",
   "metadata": {},
   "outputs": [],
   "source": [
    "# Bar graph for loan status and loan amount.\n",
    "def loan_amount(n):\n",
    "    if n < 5000:\n",
    "        return 'low'\n",
    "    elif n >=5000 and n < 15000:\n",
    "        return 'medium'\n",
    "    elif n >= 15000 and n < 25000:\n",
    "        return 'high'\n",
    "    else:\n",
    "        return 'very high'\n",
    "        \n",
    "df2['loan_amnt'] = df2['loan_amnt'].apply(lambda x: loan_amount(x))"
   ]
  },
  {
   "cell_type": "code",
   "execution_count": 295,
   "id": "f30c3365",
   "metadata": {},
   "outputs": [
    {
     "data": {
      "text/plain": [
       "<AxesSubplot:xlabel='loan_amnt', ylabel='loan_status'>"
      ]
     },
     "execution_count": 295,
     "metadata": {},
     "output_type": "execute_result"
    },
    {
     "data": {
      "image/png": "[encoded data removed]",
      "text/plain": [
       "<Figure size 432x288 with 1 Axes>"
      ]
     },
     "metadata": {
      "needs_background": "light"
     },
     "output_type": "display_data"
    }
   ],
   "source": [
    "sns.barplot(x=\"loan_amnt\", y='loan_status', data=df2)"
   ]
  },
  {
   "cell_type": "code",
   "execution_count": 296,
   "id": "88ff718a",
   "metadata": {},
   "outputs": [
    {
     "data": {
      "text/plain": [
       "<AxesSubplot:xlabel='grade', ylabel='loan_status'>"
      ]
     },
     "execution_count": 296,
     "metadata": {},
     "output_type": "execute_result"
    },
    {
     "data": {
      "image/png": "[encoded data removed]",
      "text/plain": [
       "<Figure size 432x288 with 1 Axes>"
      ]
     },
     "metadata": {
      "needs_background": "light"
     },
     "output_type": "display_data"
    }
   ],
   "source": [
    "# Bar graph for loan status and grade.\n",
    "sns.barplot(x='grade', y='loan_status', data=df2)"
   ]
  },
  {
   "cell_type": "code",
   "execution_count": 297,
   "id": "bb35e4b6",
   "metadata": {},
   "outputs": [
    {
     "data": {
      "text/plain": [
       "<AxesSubplot:xlabel='sub_grade', ylabel='loan_status'>"
      ]
     },
     "execution_count": 297,
     "metadata": {},
     "output_type": "execute_result"
    },
    {
     "data": {
      "image/png": "[encoded data removed]",
      "text/plain": [
       "<Figure size 1152x576 with 1 Axes>"
      ]
     },
     "metadata": {
      "needs_background": "light"
     },
     "output_type": "display_data"
    }
   ],
   "source": [
    "# Bar graph for loan status and sub grade.\n",
    "plt.figure(figsize=(16, 8))\n",
    "sns.barplot(x='sub_grade', y='loan_status', data=df2)"
   ]
  },
  {
   "cell_type": "code",
   "execution_count": 298,
   "id": "bdd74e61",
   "metadata": {},
   "outputs": [
    {
     "data": {
      "text/plain": [
       "<AxesSubplot:xlabel='term', ylabel='loan_status'>"
      ]
     },
     "execution_count": 298,
     "metadata": {},
     "output_type": "execute_result"
    },
    {
     "data": {
      "image/png": "[encoded data removed]",
      "text/plain": [
       "<Figure size 432x288 with 1 Axes>"
      ]
     },
     "metadata": {
      "needs_background": "light"
     },
     "output_type": "display_data"
    }
   ],
   "source": [
    "# Bar graph for loan status and term.\n",
    "sns.barplot(x='term', y='loan_status', data=df2)"
   ]
  },
  {
   "cell_type": "code",
   "execution_count": 299,
   "id": "e19b3455",
   "metadata": {},
   "outputs": [
    {
     "data": {
      "text/plain": [
       "<AxesSubplot:xlabel='purpose', ylabel='loan_status'>"
      ]
     },
     "execution_count": 299,
     "metadata": {},
     "output_type": "execute_result"
    },
    {
     "data": {
      "image/png": "[encoded data removed]",
      "text/plain": [
       "<Figure size 1152x576 with 1 Axes>"
      ]
     },
     "metadata": {
      "needs_background": "light"
     },
     "output_type": "display_data"
    }
   ],
   "source": [
    "# Bar graph for loan status and purpose.\n",
    "plt.figure(figsize=(16, 8))\n",
    "sns.barplot(x='purpose', y='loan_status', data=df2)"
   ]
  },
  {
   "cell_type": "code",
   "execution_count": 300,
   "id": "9ce4bbb5",
   "metadata": {},
   "outputs": [
    {
     "data": {
      "text/plain": [
       "<AxesSubplot:xlabel='verification_status', ylabel='loan_status'>"
      ]
     },
     "execution_count": 300,
     "metadata": {},
     "output_type": "execute_result"
    },
    {
     "data": {
      "image/png": "[encoded data removed]",
      "text/plain": [
       "<Figure size 432x288 with 1 Axes>"
      ]
     },
     "metadata": {
      "needs_background": "light"
     },
     "output_type": "display_data"
    }
   ],
   "source": [
    "# Bar graph for loan status and verification status.\n",
    "sns.barplot(x='verification_status', y='loan_status', data=df2)"
   ]
  },
  {
   "cell_type": "code",
   "execution_count": 301,
   "id": "ac175eef",
   "metadata": {},
   "outputs": [
    {
     "data": {
      "text/plain": [
       "<AxesSubplot:xlabel='home_ownership', ylabel='loan_status'>"
      ]
     },
     "execution_count": 301,
     "metadata": {},
     "output_type": "execute_result"
    },
    {
     "data": {
      "image/png": "[encoded data removed]",
      "text/plain": [
       "<Figure size 432x288 with 1 Axes>"
      ]
     },
     "metadata": {
      "needs_background": "light"
     },
     "output_type": "display_data"
    }
   ],
   "source": [
    "# Bar graph for loan status and home ownership.\n",
    "\n",
    "sns.barplot(x='home_ownership', y='loan_status', data=df2)"
   ]
  },
  {
   "cell_type": "code",
   "execution_count": 302,
   "id": "15b83742",
   "metadata": {},
   "outputs": [
    {
     "data": {
      "text/plain": [
       "<AxesSubplot:xlabel='loan_amnt', ylabel='loan_status'>"
      ]
     },
     "execution_count": 302,
     "metadata": {},
     "output_type": "execute_result"
    },
    {
     "data": {
      "image/png": "[encoded data removed]",
      "text/plain": [
       "<Figure size 432x288 with 1 Axes>"
      ]
     },
     "metadata": {
      "needs_background": "light"
     },
     "output_type": "display_data"
    }
   ],
   "source": [
    "# Bar graph for loan status and loan amount.\n",
    "sns.barplot(x=\"loan_amnt\", y='loan_status', data=df2)"
   ]
  },
  {
   "cell_type": "code",
   "execution_count": 303,
   "id": "91d8dc2a",
   "metadata": {},
   "outputs": [
    {
     "data": {
      "text/plain": [
       "<AxesSubplot:xlabel='dti', ylabel='loan_status'>"
      ]
     },
     "execution_count": 303,
     "metadata": {},
     "output_type": "execute_result"
    },
    {
     "data": {
      "image/png": "[encoded data removed]",
      "text/plain": [
       "<Figure size 432x288 with 1 Axes>"
      ]
     },
     "metadata": {
      "needs_background": "light"
     },
     "output_type": "display_data"
    }
   ],
   "source": [
    "# Bar graph for loan status and dti (debt to income ratio).\n",
    "def dti(n):\n",
    "    if n <= 10:\n",
    "        return 'low'\n",
    "    elif n > 10 and n <=20:\n",
    "        return 'medium'\n",
    "    else:\n",
    "        return 'high'\n",
    "    \n",
    "\n",
    "df2['dti'] = df2['dti'].apply(lambda x: dti(x))\n",
    "\n",
    "sns.barplot(x=\"dti\", y='loan_status', data=df2)"
   ]
  },
  {
   "cell_type": "code",
   "execution_count": 304,
   "id": "5d35fec5",
   "metadata": {},
   "outputs": [
    {
     "data": {
      "text/plain": [
       "<AxesSubplot:xlabel='annual_inc', ylabel='loan_status'>"
      ]
     },
     "execution_count": 304,
     "metadata": {},
     "output_type": "execute_result"
    },
    {
     "data": {
      "image/png": "[encoded data removed]",
      "text/plain": [
       "<Figure size 432x288 with 1 Axes>"
      ]
     },
     "metadata": {
      "needs_background": "light"
     },
     "output_type": "display_data"
    }
   ],
   "source": [
    "# Bar graph for loan status and annual income.\n",
    "def annual_income(n):\n",
    "    if n <= 50000:\n",
    "        return 'low'\n",
    "    elif n > 50000 and n <=100000:\n",
    "        return 'medium'\n",
    "    elif n > 100000 and n <=150000:\n",
    "        return 'high'\n",
    "    else:\n",
    "        return 'very high'\n",
    "\n",
    "df2['annual_inc'] = df2['annual_inc'].apply(lambda x: annual_income(x))\n",
    "\n",
    "sns.barplot(x='annual_inc', y='loan_status', data=df2)"
   ]
  },
  {
   "cell_type": "code",
   "execution_count": 305,
   "id": "656debb2",
   "metadata": {},
   "outputs": [
    {
     "data": {
      "text/plain": [
       "<AxesSubplot:xlabel='funded_amnt', ylabel='loan_status'>"
      ]
     },
     "execution_count": 305,
     "metadata": {},
     "output_type": "execute_result"
    },
    {
     "data": {
      "image/png": "[encoded data removed]",
      "text/plain": [
       "<Figure size 432x288 with 1 Axes>"
      ]
     },
     "metadata": {
      "needs_background": "light"
     },
     "output_type": "display_data"
    }
   ],
   "source": [
    "# Bar graph for loan status and funded amount.\n",
    "def funded_amount(n):\n",
    "    if n <= 5000:\n",
    "        return 'low'\n",
    "    elif n > 5000 and n <=15000:\n",
    "        return 'medium'\n",
    "    else:\n",
    "        return 'high'\n",
    "    \n",
    "df2['funded_amnt'] = df2['funded_amnt'].apply(lambda x: funded_amount(x))\n",
    "sns.barplot(x=\"funded_amnt\", y='loan_status', data=df2)"
   ]
  },
  {
   "cell_type": "code",
   "execution_count": 306,
   "id": "0da3b8aa",
   "metadata": {},
   "outputs": [
    {
     "data": {
      "text/plain": [
       "<AxesSubplot:xlabel='installment', ylabel='loan_status'>"
      ]
     },
     "execution_count": 306,
     "metadata": {},
     "output_type": "execute_result"
    },
    {
     "data": {
      "image/png": "[encoded data removed]",
      "text/plain": [
       "<Figure size 432x288 with 1 Axes>"
      ]
     },
     "metadata": {
      "needs_background": "light"
     },
     "output_type": "display_data"
    }
   ],
   "source": [
    "# Bar graph for loan status and installment.\n",
    "def installment(n):\n",
    "    if n <= 200:\n",
    "        return 'low'\n",
    "    elif n > 200 and n <=400:\n",
    "        return 'medium'\n",
    "    elif n > 400 and n <=600:\n",
    "        return 'high'\n",
    "    else:\n",
    "        return 'very high'\n",
    "    \n",
    "df2['installment'] = df2['installment'].apply(lambda x: installment(x))\n",
    "sns.barplot(x=\"installment\", y='loan_status', data=df2)"
   ]
  },
  {
   "cell_type": "code",
   "execution_count": 307,
   "id": "d85e33c9",
   "metadata": {},
   "outputs": [
    {
     "data": {
      "text/plain": [
       "<AxesSubplot:xlabel='installment', ylabel='loan_status'>"
      ]
     },
     "execution_count": 307,
     "metadata": {},
     "output_type": "execute_result"
    },
    {
     "data": {
      "image/png": "[encoded data removed]",
      "text/plain": [
       "<Figure size 432x288 with 1 Axes>"
      ]
     },
     "metadata": {
      "needs_background": "light"
     },
     "output_type": "display_data"
    }
   ],
   "source": [
    "# Bar graph for loan status and Employment length.\n",
    "df2 = df2[~df2['emp_length'].isnull()]\n",
    "\n",
    "def emp_length(n):\n",
    "    if n <= 1:\n",
    "        return 'fresher'\n",
    "    elif n > 1 and n <=3:\n",
    "        return 'junior'\n",
    "    elif n > 3 and n <=7:\n",
    "        return 'senior'\n",
    "    else:\n",
    "        return 'expert'\n",
    "\n",
    "df2['emp_length'] = df2['emp_length'].apply(lambda x: emp_length(x))\n",
    "sns.barplot(x=\"installment\", y='loan_status', data=df2)"
   ]
  },
  {
   "cell_type": "markdown",
   "id": "08652ed3",
   "metadata": {},
   "source": [
    "# Segmented Univariate Analysis"
   ]
  },
  {
   "cell_type": "code",
   "execution_count": 308,
   "id": "a27fc8f8",
   "metadata": {},
   "outputs": [
    {
     "data": {
      "text/plain": [
       "<AxesSubplot:xlabel='purpose', ylabel='loan_status'>"
      ]
     },
     "execution_count": 308,
     "metadata": {},
     "output_type": "execute_result"
    },
    {
     "data": {
      "image/png": "[encoded data removed]",
      "text/plain": [
       "<Figure size 1152x576 with 1 Axes>"
      ]
     },
     "metadata": {
      "needs_background": "light"
     },
     "output_type": "display_data"
    }
   ],
   "source": [
    "# Bar graph for loan status and purpose.\n",
    "plt.figure(figsize=(16, 8))\n",
    "sns.barplot(x='purpose', y='loan_status', data=df2)"
   ]
  },
  {
   "cell_type": "raw",
   "id": "858693e1",
   "metadata": {},
   "source": [
    "In the upcoming analyses, we will segment the loan applications across the purpose of the loan, since that is a variable affecting many other variables - the type of applicant, interest rate, income, and finally the default rate"
   ]
  },
  {
   "cell_type": "code",
   "execution_count": 309,
   "id": "e673da98",
   "metadata": {},
   "outputs": [
    {
     "data": {
      "image/png": "[encoded data removed]",
      "text/plain": [
       "<Figure size 432x288 with 1 Axes>"
      ]
     },
     "metadata": {
      "needs_background": "light"
     },
     "output_type": "display_data"
    }
   ],
   "source": [
    "# filtering the df for the 4 types of loans mentioned above\n",
    "main_purposes = [\"credit_card\",\"debt_consolidation\",\"home_improvement\",\"major_purchase\"]\n",
    "df2 = df2[df2['purpose'].isin(main_purposes)]\n",
    "df2['purpose'].value_counts()\n",
    "\n",
    "# plotting number of loans by purpose \n",
    "sns.countplot(x=df2['purpose'])\n",
    "plt.show()"
   ]
  },
  {
   "cell_type": "code",
   "execution_count": 310,
   "id": "b999d3ca",
   "metadata": {},
   "outputs": [
    {
     "data": {
      "image/png": "[encoded data removed]",
      "text/plain": [
       "<Figure size 1152x432 with 1 Axes>"
      ]
     },
     "metadata": {
      "needs_background": "light"
     },
     "output_type": "display_data"
    }
   ],
   "source": [
    "# let's now compare the default rates across two types of categorical variables.\n",
    "# purpose of loan (constant) and another categorical variable (which changes).\n",
    "# Bar graph for loan status and term with purpose.\n",
    "\n",
    "plt.figure(figsize=[16, 6])\n",
    "sns.barplot(x='term', y=\"loan_status\", hue='purpose', data=df2)\n",
    "plt.show()"
   ]
  },
  {
   "cell_type": "code",
   "execution_count": 311,
   "id": "97f30eb4",
   "metadata": {},
   "outputs": [
    {
     "data": {
      "image/png": "[encoded data removed]",
      "text/plain": [
       "<Figure size 1152x432 with 1 Axes>"
      ]
     },
     "metadata": {
      "needs_background": "light"
     },
     "output_type": "display_data"
    }
   ],
   "source": [
    "# Bar graph for loan status and grade with purpose.\n",
    "plt.figure(figsize=[16, 6])\n",
    "sns.barplot(x='grade', y=\"loan_status\", hue='purpose', data=df2)\n",
    "plt.show()"
   ]
  },
  {
   "cell_type": "code",
   "execution_count": 312,
   "id": "84bd2392",
   "metadata": {},
   "outputs": [
    {
     "data": {
      "image/png": "[encoded data removed]",
      "text/plain": [
       "<Figure size 1152x432 with 1 Axes>"
      ]
     },
     "metadata": {
      "needs_background": "light"
     },
     "output_type": "display_data"
    }
   ],
   "source": [
    "# Bar graph for loan status and home ownership with purpose.\n",
    "plt.figure(figsize=[16, 6])\n",
    "sns.barplot(x='home_ownership', y=\"loan_status\", hue='purpose', data=df2)\n",
    "plt.show()"
   ]
  },
  {
   "cell_type": "code",
   "execution_count": 313,
   "id": "dcf8106d",
   "metadata": {},
   "outputs": [
    {
     "data": {
      "image/png": "[encoded data removed]",
      "text/plain": [
       "<Figure size 1152x432 with 1 Axes>"
      ]
     },
     "metadata": {
      "needs_background": "light"
     },
     "output_type": "display_data"
    }
   ],
   "source": [
    "# Bar graph for loan status and emp length with purpose.\n",
    "plt.figure(figsize=[16, 6])\n",
    "sns.barplot(x='emp_length', y=\"loan_status\", hue='purpose', data=df2)\n",
    "plt.show()"
   ]
  },
  {
   "cell_type": "code",
   "execution_count": 314,
   "id": "6ceddf22",
   "metadata": {},
   "outputs": [
    {
     "data": {
      "image/png": "[encoded data removed]",
      "text/plain": [
       "<Figure size 1152x432 with 1 Axes>"
      ]
     },
     "metadata": {
      "needs_background": "light"
     },
     "output_type": "display_data"
    }
   ],
   "source": [
    "# Bar graph for loan status and loan amount with purpose.\n",
    "plt.figure(figsize=[16, 6])\n",
    "sns.barplot(x = 'loan_amnt', y=\"loan_status\", hue='purpose', data=df2)\n",
    "plt.show()"
   ]
  },
  {
   "cell_type": "code",
   "execution_count": 315,
   "id": "3e411106",
   "metadata": {},
   "outputs": [
    {
     "data": {
      "image/png": "[encoded data removed]",
      "text/plain": [
       "<Figure size 1152x432 with 1 Axes>"
      ]
     },
     "metadata": {
      "needs_background": "light"
     },
     "output_type": "display_data"
    }
   ],
   "source": [
    "# Bar graph for loan status and installment with purpose.\n",
    "plt.figure(figsize=[16, 6])\n",
    "sns.barplot(x = 'installment' , y=\"loan_status\", hue='purpose', data=df2)\n",
    "plt.show()"
   ]
  },
  {
   "cell_type": "code",
   "execution_count": 316,
   "id": "659f130a",
   "metadata": {},
   "outputs": [
    {
     "data": {
      "image/png": "[encoded data removed]",
      "text/plain": [
       "<Figure size 1152x432 with 1 Axes>"
      ]
     },
     "metadata": {
      "needs_background": "light"
     },
     "output_type": "display_data"
    }
   ],
   "source": [
    "# Bar graph for loan status and dti with purpose.\n",
    "plt.figure(figsize=[16, 6])\n",
    "sns.barplot(x = 'dti' , y=\"loan_status\", hue='purpose', data=df2)\n",
    "plt.show()"
   ]
  },
  {
   "cell_type": "code",
   "execution_count": 317,
   "id": "1be936b5",
   "metadata": {},
   "outputs": [
    {
     "data": {
      "image/png": "[encoded data removed]",
      "text/plain": [
       "<Figure size 1152x432 with 1 Axes>"
      ]
     },
     "metadata": {
      "needs_background": "light"
     },
     "output_type": "display_data"
    }
   ],
   "source": [
    "# Bar graph for loan status and annual inc with purpose.\n",
    "plt.figure(figsize=[16, 6])\n",
    "sns.barplot(x = 'annual_inc' , y=\"loan_status\", hue='purpose', data=df2)\n",
    "plt.show()"
   ]
  },
  {
   "cell_type": "code",
   "execution_count": 318,
   "id": "6398b05d",
   "metadata": {},
   "outputs": [
    {
     "name": "stdout",
     "output_type": "stream",
     "text": [
      "<class 'pandas.core.frame.DataFrame'>\n",
      "RangeIndex: 39717 entries, 0 to 39716\n",
      "Data columns (total 48 columns):\n",
      " #   Column                      Non-Null Count  Dtype  \n",
      "---  ------                      --------------  -----  \n",
      " 0   id                          39717 non-null  int64  \n",
      " 1   loan_amnt                   39717 non-null  int64  \n",
      " 2   funded_amnt                 39717 non-null  int64  \n",
      " 3   funded_amnt_inv             39717 non-null  float64\n",
      " 4   term                        39717 non-null  object \n",
      " 5   int_rate                    39717 non-null  object \n",
      " 6   installment                 39717 non-null  float64\n",
      " 7   grade                       39717 non-null  object \n",
      " 8   sub_grade                   39717 non-null  object \n",
      " 9   emp_length                  39717 non-null  int64  \n",
      " 10  home_ownership              39717 non-null  object \n",
      " 11  annual_inc                  39717 non-null  float64\n",
      " 12  verification_status         39717 non-null  object \n",
      " 13  issue_d                     39717 non-null  object \n",
      " 14  loan_status                 39717 non-null  object \n",
      " 15  pymnt_plan                  39717 non-null  object \n",
      " 16  purpose                     39717 non-null  object \n",
      " 17  title                       39706 non-null  object \n",
      " 18  addr_state                  39717 non-null  object \n",
      " 19  dti                         39717 non-null  float64\n",
      " 20  delinq_2yrs                 39717 non-null  int64  \n",
      " 21  earliest_cr_line            39717 non-null  object \n",
      " 22  inq_last_6mths              39717 non-null  int64  \n",
      " 23  open_acc                    39717 non-null  int64  \n",
      " 24  pub_rec                     39717 non-null  int64  \n",
      " 25  revol_bal                   39717 non-null  int64  \n",
      " 26  revol_util                  39667 non-null  object \n",
      " 27  total_acc                   39717 non-null  int64  \n",
      " 28  initial_list_status         39717 non-null  object \n",
      " 29  out_prncp                   39717 non-null  float64\n",
      " 30  out_prncp_inv               39717 non-null  float64\n",
      " 31  total_pymnt                 39717 non-null  float64\n",
      " 32  total_pymnt_inv             39717 non-null  float64\n",
      " 33  total_rec_prncp             39717 non-null  float64\n",
      " 34  total_rec_int               39717 non-null  float64\n",
      " 35  total_rec_late_fee          39717 non-null  float64\n",
      " 36  recoveries                  39717 non-null  float64\n",
      " 37  collection_recovery_fee     39717 non-null  float64\n",
      " 38  last_pymnt_d                39646 non-null  object \n",
      " 39  last_pymnt_amnt             39717 non-null  float64\n",
      " 40  last_credit_pull_d          39715 non-null  object \n",
      " 41  collections_12_mths_ex_med  39661 non-null  float64\n",
      " 42  policy_code                 39717 non-null  int64  \n",
      " 43  application_type            39717 non-null  object \n",
      " 44  acc_now_delinq              39717 non-null  int64  \n",
      " 45  chargeoff_within_12_mths    39661 non-null  float64\n",
      " 46  delinq_amnt                 39717 non-null  int64  \n",
      " 47  pub_rec_bankruptcies        39020 non-null  float64\n",
      "dtypes: float64(17), int64(13), object(18)\n",
      "memory usage: 14.5+ MB\n"
     ]
    }
   ],
   "source": [
    "df.info()"
   ]
  },
  {
   "cell_type": "markdown",
   "id": "5682b87b",
   "metadata": {},
   "source": [
    "### Label Encoding"
   ]
  },
  {
   "cell_type": "code",
   "execution_count": 358,
   "id": "60151a4b",
   "metadata": {},
   "outputs": [
    {
     "data": {
      "text/plain": [
       "id                            39717\n",
       "loan_amnt                       885\n",
       "funded_amnt                    1041\n",
       "funded_amnt_inv                8205\n",
       "term                              2\n",
       "int_rate                        371\n",
       "installment                   15383\n",
       "grade                             7\n",
       "sub_grade                        35\n",
       "emp_length                       11\n",
       "home_ownership                    5\n",
       "annual_inc                     5318\n",
       "verification_status               3\n",
       "issue_d                          55\n",
       "loan_status                       2\n",
       "pymnt_plan                        1\n",
       "purpose                          14\n",
       "title                         19615\n",
       "addr_state                       50\n",
       "dti                            2868\n",
       "initial_list_status               1\n",
       "collections_12_mths_ex_med        1\n",
       "policy_code                       1\n",
       "acc_now_delinq                    1\n",
       "chargeoff_within_12_mths          1\n",
       "delinq_amnt                       1\n",
       "pub_rec_bankruptcies              3\n",
       "dtype: int64"
      ]
     },
     "execution_count": 358,
     "metadata": {},
     "output_type": "execute_result"
    }
   ],
   "source": [
    "df2.nunique()"
   ]
  },
  {
   "cell_type": "code",
   "execution_count": 359,
   "id": "706ad537",
   "metadata": {},
   "outputs": [],
   "source": [
    "df2.drop(['title'], axis = 1, inplace = True)"
   ]
  },
  {
   "cell_type": "code",
   "execution_count": 360,
   "id": "05ece334",
   "metadata": {},
   "outputs": [],
   "source": [
    "df_3 = df2"
   ]
  },
  {
   "cell_type": "code",
   "execution_count": 361,
   "id": "3fcb89c7",
   "metadata": {},
   "outputs": [
    {
     "data": {
      "text/plain": [
       "['grade',\n",
       " 'sub_grade',\n",
       " 'home_ownership',\n",
       " 'verification_status',\n",
       " 'issue_d',\n",
       " 'pymnt_plan',\n",
       " 'purpose',\n",
       " 'addr_state',\n",
       " 'initial_list_status']"
      ]
     },
     "execution_count": 361,
     "metadata": {},
     "output_type": "execute_result"
    }
   ],
   "source": [
    "Object_list = list(df_3.select_dtypes(['object']).columns)\n",
    "Object_list"
   ]
  },
  {
   "cell_type": "code",
   "execution_count": 208,
   "id": "763b4c50",
   "metadata": {},
   "outputs": [],
   "source": [
    "# Import label encoder for single column\n",
    "# from sklearn import preprocessing\n",
    "  \n",
    "# label_encoder object knows how to understand word labels.\n",
    "# label_encoder = preprocessing.LabelEncoder()\n",
    "  \n",
    "# Encode labels in column 'species'.\n",
    "# df_3= label_encoder.fit(df_3)\n",
    "  \n",
    "# df[Object_list].unique()"
   ]
  },
  {
   "cell_type": "code",
   "execution_count": 364,
   "id": "74dbafaf",
   "metadata": {},
   "outputs": [],
   "source": [
    "# Import label encoder\n",
    "from sklearn.preprocessing import LabelEncoder\n",
    "df_3[Object_list] = df_3[Object_list].apply(LabelEncoder().fit_transform)"
   ]
  },
  {
   "cell_type": "code",
   "execution_count": 365,
   "id": "17a0c3f9",
   "metadata": {},
   "outputs": [
    {
     "data": {
      "text/html": [
       "<div>\n",
       "<style scoped>\n",
       "    .dataframe tbody tr th:only-of-type {\n",
       "        vertical-align: middle;\n",
       "    }\n",
       "\n",
       "    .dataframe tbody tr th {\n",
       "        vertical-align: top;\n",
       "    }\n",
       "\n",
       "    .dataframe thead th {\n",
       "        text-align: right;\n",
       "    }\n",
       "</style>\n",
       "<table border=\"1\" class=\"dataframe\">\n",
       "  <thead>\n",
       "    <tr style=\"text-align: right;\">\n",
       "      <th></th>\n",
       "      <th>id</th>\n",
       "      <th>loan_amnt</th>\n",
       "      <th>funded_amnt</th>\n",
       "      <th>funded_amnt_inv</th>\n",
       "      <th>term</th>\n",
       "      <th>int_rate</th>\n",
       "      <th>installment</th>\n",
       "      <th>grade</th>\n",
       "      <th>sub_grade</th>\n",
       "      <th>emp_length</th>\n",
       "      <th>...</th>\n",
       "      <th>purpose</th>\n",
       "      <th>addr_state</th>\n",
       "      <th>dti</th>\n",
       "      <th>initial_list_status</th>\n",
       "      <th>collections_12_mths_ex_med</th>\n",
       "      <th>policy_code</th>\n",
       "      <th>acc_now_delinq</th>\n",
       "      <th>chargeoff_within_12_mths</th>\n",
       "      <th>delinq_amnt</th>\n",
       "      <th>pub_rec_bankruptcies</th>\n",
       "    </tr>\n",
       "  </thead>\n",
       "  <tbody>\n",
       "    <tr>\n",
       "      <th>0</th>\n",
       "      <td>1077501</td>\n",
       "      <td>5000</td>\n",
       "      <td>5000</td>\n",
       "      <td>4975.0</td>\n",
       "      <td>36</td>\n",
       "      <td>10.65</td>\n",
       "      <td>162.87</td>\n",
       "      <td>1</td>\n",
       "      <td>6</td>\n",
       "      <td>10</td>\n",
       "      <td>...</td>\n",
       "      <td>1</td>\n",
       "      <td>3</td>\n",
       "      <td>27.65</td>\n",
       "      <td>0</td>\n",
       "      <td>0.0</td>\n",
       "      <td>1</td>\n",
       "      <td>0</td>\n",
       "      <td>0.0</td>\n",
       "      <td>0</td>\n",
       "      <td>0.0</td>\n",
       "    </tr>\n",
       "    <tr>\n",
       "      <th>1</th>\n",
       "      <td>1077430</td>\n",
       "      <td>2500</td>\n",
       "      <td>2500</td>\n",
       "      <td>2500.0</td>\n",
       "      <td>60</td>\n",
       "      <td>15.27</td>\n",
       "      <td>59.83</td>\n",
       "      <td>2</td>\n",
       "      <td>13</td>\n",
       "      <td>1</td>\n",
       "      <td>...</td>\n",
       "      <td>0</td>\n",
       "      <td>10</td>\n",
       "      <td>1.00</td>\n",
       "      <td>0</td>\n",
       "      <td>0.0</td>\n",
       "      <td>1</td>\n",
       "      <td>0</td>\n",
       "      <td>0.0</td>\n",
       "      <td>0</td>\n",
       "      <td>0.0</td>\n",
       "    </tr>\n",
       "    <tr>\n",
       "      <th>2</th>\n",
       "      <td>1077175</td>\n",
       "      <td>2400</td>\n",
       "      <td>2400</td>\n",
       "      <td>2400.0</td>\n",
       "      <td>36</td>\n",
       "      <td>15.96</td>\n",
       "      <td>84.33</td>\n",
       "      <td>2</td>\n",
       "      <td>14</td>\n",
       "      <td>10</td>\n",
       "      <td>...</td>\n",
       "      <td>11</td>\n",
       "      <td>14</td>\n",
       "      <td>8.72</td>\n",
       "      <td>0</td>\n",
       "      <td>0.0</td>\n",
       "      <td>1</td>\n",
       "      <td>0</td>\n",
       "      <td>0.0</td>\n",
       "      <td>0</td>\n",
       "      <td>0.0</td>\n",
       "    </tr>\n",
       "    <tr>\n",
       "      <th>3</th>\n",
       "      <td>1076863</td>\n",
       "      <td>10000</td>\n",
       "      <td>10000</td>\n",
       "      <td>10000.0</td>\n",
       "      <td>36</td>\n",
       "      <td>13.49</td>\n",
       "      <td>339.31</td>\n",
       "      <td>2</td>\n",
       "      <td>10</td>\n",
       "      <td>10</td>\n",
       "      <td>...</td>\n",
       "      <td>9</td>\n",
       "      <td>4</td>\n",
       "      <td>20.00</td>\n",
       "      <td>0</td>\n",
       "      <td>0.0</td>\n",
       "      <td>1</td>\n",
       "      <td>0</td>\n",
       "      <td>0.0</td>\n",
       "      <td>0</td>\n",
       "      <td>0.0</td>\n",
       "    </tr>\n",
       "    <tr>\n",
       "      <th>4</th>\n",
       "      <td>1075358</td>\n",
       "      <td>3000</td>\n",
       "      <td>3000</td>\n",
       "      <td>3000.0</td>\n",
       "      <td>60</td>\n",
       "      <td>12.69</td>\n",
       "      <td>67.79</td>\n",
       "      <td>1</td>\n",
       "      <td>9</td>\n",
       "      <td>1</td>\n",
       "      <td>...</td>\n",
       "      <td>9</td>\n",
       "      <td>36</td>\n",
       "      <td>17.94</td>\n",
       "      <td>0</td>\n",
       "      <td>0.0</td>\n",
       "      <td>1</td>\n",
       "      <td>0</td>\n",
       "      <td>0.0</td>\n",
       "      <td>0</td>\n",
       "      <td>0.0</td>\n",
       "    </tr>\n",
       "  </tbody>\n",
       "</table>\n",
       "<p>5 rows × 26 columns</p>\n",
       "</div>"
      ],
      "text/plain": [
       "        id  loan_amnt  funded_amnt  funded_amnt_inv  term  int_rate  \\\n",
       "0  1077501       5000         5000           4975.0    36     10.65   \n",
       "1  1077430       2500         2500           2500.0    60     15.27   \n",
       "2  1077175       2400         2400           2400.0    36     15.96   \n",
       "3  1076863      10000        10000          10000.0    36     13.49   \n",
       "4  1075358       3000         3000           3000.0    60     12.69   \n",
       "\n",
       "   installment  grade  sub_grade  emp_length  ...  purpose  addr_state    dti  \\\n",
       "0       162.87      1          6          10  ...        1           3  27.65   \n",
       "1        59.83      2         13           1  ...        0          10   1.00   \n",
       "2        84.33      2         14          10  ...       11          14   8.72   \n",
       "3       339.31      2         10          10  ...        9           4  20.00   \n",
       "4        67.79      1          9           1  ...        9          36  17.94   \n",
       "\n",
       "   initial_list_status  collections_12_mths_ex_med  policy_code  \\\n",
       "0                    0                         0.0            1   \n",
       "1                    0                         0.0            1   \n",
       "2                    0                         0.0            1   \n",
       "3                    0                         0.0            1   \n",
       "4                    0                         0.0            1   \n",
       "\n",
       "   acc_now_delinq  chargeoff_within_12_mths  delinq_amnt  pub_rec_bankruptcies  \n",
       "0               0                       0.0            0                   0.0  \n",
       "1               0                       0.0            0                   0.0  \n",
       "2               0                       0.0            0                   0.0  \n",
       "3               0                       0.0            0                   0.0  \n",
       "4               0                       0.0            0                   0.0  \n",
       "\n",
       "[5 rows x 26 columns]"
      ]
     },
     "execution_count": 365,
     "metadata": {},
     "output_type": "execute_result"
    }
   ],
   "source": [
    "df_3.head()"
   ]
  },
  {
   "cell_type": "code",
   "execution_count": 366,
   "id": "f853a6db",
   "metadata": {},
   "outputs": [],
   "source": [
    "#dropping the id column\n",
    "df_3.drop(['id'], axis = 1, inplace = True)"
   ]
  },
  {
   "cell_type": "code",
   "execution_count": 367,
   "id": "9613e0bd",
   "metadata": {},
   "outputs": [
    {
     "data": {
      "text/html": [
       "<div>\n",
       "<style scoped>\n",
       "    .dataframe tbody tr th:only-of-type {\n",
       "        vertical-align: middle;\n",
       "    }\n",
       "\n",
       "    .dataframe tbody tr th {\n",
       "        vertical-align: top;\n",
       "    }\n",
       "\n",
       "    .dataframe thead th {\n",
       "        text-align: right;\n",
       "    }\n",
       "</style>\n",
       "<table border=\"1\" class=\"dataframe\">\n",
       "  <thead>\n",
       "    <tr style=\"text-align: right;\">\n",
       "      <th></th>\n",
       "      <th>loan_amnt</th>\n",
       "      <th>funded_amnt</th>\n",
       "      <th>funded_amnt_inv</th>\n",
       "      <th>term</th>\n",
       "      <th>int_rate</th>\n",
       "      <th>installment</th>\n",
       "      <th>grade</th>\n",
       "      <th>sub_grade</th>\n",
       "      <th>emp_length</th>\n",
       "      <th>home_ownership</th>\n",
       "      <th>...</th>\n",
       "      <th>purpose</th>\n",
       "      <th>addr_state</th>\n",
       "      <th>dti</th>\n",
       "      <th>initial_list_status</th>\n",
       "      <th>collections_12_mths_ex_med</th>\n",
       "      <th>policy_code</th>\n",
       "      <th>acc_now_delinq</th>\n",
       "      <th>chargeoff_within_12_mths</th>\n",
       "      <th>delinq_amnt</th>\n",
       "      <th>pub_rec_bankruptcies</th>\n",
       "    </tr>\n",
       "  </thead>\n",
       "  <tbody>\n",
       "    <tr>\n",
       "      <th>0</th>\n",
       "      <td>5000</td>\n",
       "      <td>5000</td>\n",
       "      <td>4975.0</td>\n",
       "      <td>36</td>\n",
       "      <td>10.65</td>\n",
       "      <td>162.87</td>\n",
       "      <td>1</td>\n",
       "      <td>6</td>\n",
       "      <td>10</td>\n",
       "      <td>4</td>\n",
       "      <td>...</td>\n",
       "      <td>1</td>\n",
       "      <td>3</td>\n",
       "      <td>27.65</td>\n",
       "      <td>0</td>\n",
       "      <td>0.0</td>\n",
       "      <td>1</td>\n",
       "      <td>0</td>\n",
       "      <td>0.0</td>\n",
       "      <td>0</td>\n",
       "      <td>0.0</td>\n",
       "    </tr>\n",
       "    <tr>\n",
       "      <th>1</th>\n",
       "      <td>2500</td>\n",
       "      <td>2500</td>\n",
       "      <td>2500.0</td>\n",
       "      <td>60</td>\n",
       "      <td>15.27</td>\n",
       "      <td>59.83</td>\n",
       "      <td>2</td>\n",
       "      <td>13</td>\n",
       "      <td>1</td>\n",
       "      <td>4</td>\n",
       "      <td>...</td>\n",
       "      <td>0</td>\n",
       "      <td>10</td>\n",
       "      <td>1.00</td>\n",
       "      <td>0</td>\n",
       "      <td>0.0</td>\n",
       "      <td>1</td>\n",
       "      <td>0</td>\n",
       "      <td>0.0</td>\n",
       "      <td>0</td>\n",
       "      <td>0.0</td>\n",
       "    </tr>\n",
       "    <tr>\n",
       "      <th>2</th>\n",
       "      <td>2400</td>\n",
       "      <td>2400</td>\n",
       "      <td>2400.0</td>\n",
       "      <td>36</td>\n",
       "      <td>15.96</td>\n",
       "      <td>84.33</td>\n",
       "      <td>2</td>\n",
       "      <td>14</td>\n",
       "      <td>10</td>\n",
       "      <td>4</td>\n",
       "      <td>...</td>\n",
       "      <td>11</td>\n",
       "      <td>14</td>\n",
       "      <td>8.72</td>\n",
       "      <td>0</td>\n",
       "      <td>0.0</td>\n",
       "      <td>1</td>\n",
       "      <td>0</td>\n",
       "      <td>0.0</td>\n",
       "      <td>0</td>\n",
       "      <td>0.0</td>\n",
       "    </tr>\n",
       "    <tr>\n",
       "      <th>3</th>\n",
       "      <td>10000</td>\n",
       "      <td>10000</td>\n",
       "      <td>10000.0</td>\n",
       "      <td>36</td>\n",
       "      <td>13.49</td>\n",
       "      <td>339.31</td>\n",
       "      <td>2</td>\n",
       "      <td>10</td>\n",
       "      <td>10</td>\n",
       "      <td>4</td>\n",
       "      <td>...</td>\n",
       "      <td>9</td>\n",
       "      <td>4</td>\n",
       "      <td>20.00</td>\n",
       "      <td>0</td>\n",
       "      <td>0.0</td>\n",
       "      <td>1</td>\n",
       "      <td>0</td>\n",
       "      <td>0.0</td>\n",
       "      <td>0</td>\n",
       "      <td>0.0</td>\n",
       "    </tr>\n",
       "    <tr>\n",
       "      <th>4</th>\n",
       "      <td>3000</td>\n",
       "      <td>3000</td>\n",
       "      <td>3000.0</td>\n",
       "      <td>60</td>\n",
       "      <td>12.69</td>\n",
       "      <td>67.79</td>\n",
       "      <td>1</td>\n",
       "      <td>9</td>\n",
       "      <td>1</td>\n",
       "      <td>4</td>\n",
       "      <td>...</td>\n",
       "      <td>9</td>\n",
       "      <td>36</td>\n",
       "      <td>17.94</td>\n",
       "      <td>0</td>\n",
       "      <td>0.0</td>\n",
       "      <td>1</td>\n",
       "      <td>0</td>\n",
       "      <td>0.0</td>\n",
       "      <td>0</td>\n",
       "      <td>0.0</td>\n",
       "    </tr>\n",
       "  </tbody>\n",
       "</table>\n",
       "<p>5 rows × 25 columns</p>\n",
       "</div>"
      ],
      "text/plain": [
       "   loan_amnt  funded_amnt  funded_amnt_inv  term  int_rate  installment  \\\n",
       "0       5000         5000           4975.0    36     10.65       162.87   \n",
       "1       2500         2500           2500.0    60     15.27        59.83   \n",
       "2       2400         2400           2400.0    36     15.96        84.33   \n",
       "3      10000        10000          10000.0    36     13.49       339.31   \n",
       "4       3000         3000           3000.0    60     12.69        67.79   \n",
       "\n",
       "   grade  sub_grade  emp_length  home_ownership  ...  purpose  addr_state  \\\n",
       "0      1          6          10               4  ...        1           3   \n",
       "1      2         13           1               4  ...        0          10   \n",
       "2      2         14          10               4  ...       11          14   \n",
       "3      2         10          10               4  ...        9           4   \n",
       "4      1          9           1               4  ...        9          36   \n",
       "\n",
       "     dti  initial_list_status  collections_12_mths_ex_med  policy_code  \\\n",
       "0  27.65                    0                         0.0            1   \n",
       "1   1.00                    0                         0.0            1   \n",
       "2   8.72                    0                         0.0            1   \n",
       "3  20.00                    0                         0.0            1   \n",
       "4  17.94                    0                         0.0            1   \n",
       "\n",
       "   acc_now_delinq  chargeoff_within_12_mths  delinq_amnt  pub_rec_bankruptcies  \n",
       "0               0                       0.0            0                   0.0  \n",
       "1               0                       0.0            0                   0.0  \n",
       "2               0                       0.0            0                   0.0  \n",
       "3               0                       0.0            0                   0.0  \n",
       "4               0                       0.0            0                   0.0  \n",
       "\n",
       "[5 rows x 25 columns]"
      ]
     },
     "execution_count": 367,
     "metadata": {},
     "output_type": "execute_result"
    }
   ],
   "source": [
    "df4 = df_3\n",
    "df4.head()"
   ]
  },
  {
   "cell_type": "markdown",
   "id": "3e848574",
   "metadata": {},
   "source": [
    "# Model Training and Testing"
   ]
  },
  {
   "cell_type": "markdown",
   "id": "891f251a",
   "metadata": {},
   "source": [
    "#### Split Data into Test and Training Data Sets"
   ]
  },
  {
   "cell_type": "code",
   "execution_count": 368,
   "id": "efca8ee0",
   "metadata": {},
   "outputs": [],
   "source": [
    "# Split the data into training and test data sets.\n",
    "# First we need to divide our data into x values (the data we will  # use to make predictions) \n",
    "# and y values (the data we are attempting to predict).\n",
    "\n",
    "from sklearn.model_selection import train_test_split\n",
    "    \n",
    "x_data = df4.drop('loan_status', axis = 1) \n",
    "y_data = df4['loan_status']\n",
    "# Use train_test_split function to generate training data and test  # data. Test data set is 30% of original data set. \n",
    "x_train, x_test, y_train, y_test = train_test_split(x_data, y_data, test_size = 0.30, random_state=42)"
   ]
  },
  {
   "cell_type": "markdown",
   "id": "dc5fc420",
   "metadata": {},
   "source": [
    "##### Normalize the feature datasets."
   ]
  },
  {
   "cell_type": "code",
   "execution_count": 369,
   "id": "10d975d0",
   "metadata": {},
   "outputs": [],
   "source": [
    "# Normalize the feature datasets. StandardScaler will transform the # data so that its distribution will have a mean value 0 and        # standard deviation of 1. \n",
    "\n",
    "from sklearn.preprocessing import StandardScaler\n",
    "\n",
    "sc = StandardScaler()\n",
    "x_train = sc.fit_transform(x_train)\n",
    "x_test = sc.fit_transform(x_test)"
   ]
  },
  {
   "cell_type": "markdown",
   "id": "0f08b965",
   "metadata": {},
   "source": [
    "We will now train models, make predictions and evaluate the performance using five different models."
   ]
  },
  {
   "cell_type": "markdown",
   "id": "59c3dfc2",
   "metadata": {},
   "source": [
    "##### Logistic Regression Model"
   ]
  },
  {
   "cell_type": "code",
   "execution_count": 370,
   "id": "8c12e2c9",
   "metadata": {},
   "outputs": [
    {
     "name": "stdout",
     "output_type": "stream",
     "text": [
      "0.8312353138637126\n"
     ]
    }
   ],
   "source": [
    "# Create an instance of the classifier and assign it to a model     # variable. \n",
    "\n",
    "from sklearn.linear_model import LogisticRegression\n",
    "from sklearn.metrics import accuracy_score, confusion_matrix\n",
    "\n",
    "model_lg = LogisticRegression()\n",
    "# Train the model using the fit method and training data. \n",
    "model_lg.fit(x_train, y_train)\n",
    "# Make predictions on the test data. \n",
    "predictions_lr = model_lg.predict(x_test)\n",
    "# Calculate the Accuracy Score.\n",
    "lg = accuracy_score(y_test, predictions_lr)\n",
    "print(lg)"
   ]
  },
  {
   "cell_type": "code",
   "execution_count": 371,
   "id": "0b4c8afe",
   "metadata": {},
   "outputs": [
    {
     "data": {
      "text/plain": [
       "<AxesSubplot:>"
      ]
     },
     "execution_count": 371,
     "metadata": {},
     "output_type": "execute_result"
    },
    {
     "data": {
      "image/png": "[encoded data removed]",
      "text/plain": [
       "<Figure size 432x288 with 2 Axes>"
      ]
     },
     "metadata": {
      "needs_background": "light"
     },
     "output_type": "display_data"
    }
   ],
   "source": [
    "# Show Confusion Maxtrix.\n",
    "cm1 = confusion_matrix(y_test, predictions_lr)\n",
    "sns.heatmap(cm1/np.sum(cm1), annot = True, fmt=  '0.2%', cmap = 'Reds')"
   ]
  },
  {
   "cell_type": "markdown",
   "id": "c844b6fe",
   "metadata": {},
   "source": [
    "The logistic regression model correctly predicted 83.12% of the loans to be good or bad.\n",
    "\n",
    "        82.04% correctly predicted loans to be good.\n",
    "\n",
    "        1.08% correctly predicted loans to go bad.\n",
    "\n",
    "16.88% of the loans were incorrectly predicted to be good or bad.\n",
    "\n",
    "        0.96% incorrectly predicted loans to go bad.\n",
    "\n",
    "        15.92% incorrectly predicted loans to be good."
   ]
  },
  {
   "cell_type": "markdown",
   "id": "d4c6e250",
   "metadata": {},
   "source": [
    "##### Decision Tree Model"
   ]
  },
  {
   "cell_type": "code",
   "execution_count": 372,
   "id": "8f2f2319",
   "metadata": {},
   "outputs": [
    {
     "name": "stdout",
     "output_type": "stream",
     "text": [
      "0.7362369922792884\n"
     ]
    }
   ],
   "source": [
    "# Create an instance of the classifier and assign it to a model     # variable. \n",
    "\n",
    "from sklearn.tree import DecisionTreeClassifier\n",
    "\n",
    "model_dt = DecisionTreeClassifier(criterion = 'entropy', random_state=42)\n",
    "# Train the Model using the fit method and training data. \n",
    "model_dt.fit(x_train, y_train)\n",
    "# Make predictions on the test data. \n",
    "predictions_dt = model_dt.predict(x_test)\n",
    "# Calculate the Accuracy Score.\n",
    "dt = accuracy_score(y_test, predictions_dt)\n",
    "print(dt)"
   ]
  },
  {
   "cell_type": "code",
   "execution_count": 373,
   "id": "049e111d",
   "metadata": {},
   "outputs": [
    {
     "data": {
      "text/plain": [
       "<AxesSubplot:>"
      ]
     },
     "execution_count": 373,
     "metadata": {},
     "output_type": "execute_result"
    },
    {
     "data": {
      "image/png": "[encoded data removed]",
      "text/plain": [
       "<Figure size 432x288 with 2 Axes>"
      ]
     },
     "metadata": {
      "needs_background": "light"
     },
     "output_type": "display_data"
    }
   ],
   "source": [
    "# Show Confusion Maxtrix\n",
    "cm2 = confusion_matrix(y_test, predictions_dt)\n",
    "sns.heatmap(cm2/np.sum(cm2), annot = True, fmt=  '0.2%', cmap = 'Reds')"
   ]
  },
  {
   "cell_type": "markdown",
   "id": "e5e52189",
   "metadata": {},
   "source": [
    "##### Random Forrest Model"
   ]
  },
  {
   "cell_type": "code",
   "execution_count": 374,
   "id": "357bfe67",
   "metadata": {},
   "outputs": [
    {
     "name": "stdout",
     "output_type": "stream",
     "text": [
      "0.8301443437395098\n"
     ]
    }
   ],
   "source": [
    "from sklearn.ensemble import RandomForestClassifier\n",
    "\n",
    "# Create an instance of the classifier and assign it to a model     # variable. \n",
    "model_rf = RandomForestClassifier(n_estimators=100, max_depth=10)\n",
    "# Train the model using the fit method and training data.\n",
    "model_rf.fit(x_train, y_train)\n",
    "# Make predictions on the test data. \n",
    "predictions_rf = model_rf.predict(x_test)\n",
    "# Calculate the Accuracy Score.\n",
    "rf = accuracy_score(y_test, predictions_rf)\n",
    "print(rf)"
   ]
  },
  {
   "cell_type": "code",
   "execution_count": 375,
   "id": "7f2727e0",
   "metadata": {},
   "outputs": [
    {
     "data": {
      "text/plain": [
       "<AxesSubplot:>"
      ]
     },
     "execution_count": 375,
     "metadata": {},
     "output_type": "execute_result"
    },
    {
     "data": {
      "image/png": "[encoded data removed]",
      "text/plain": [
       "<Figure size 432x288 with 2 Axes>"
      ]
     },
     "metadata": {
      "needs_background": "light"
     },
     "output_type": "display_data"
    }
   ],
   "source": [
    "# Show Confusion Maxtrix\n",
    "cm3 = confusion_matrix(y_test, predictions_rf)\n",
    "sns.heatmap(cm3/np.sum(cm3), annot = True, fmt=  '0.2%', cmap = 'Reds')"
   ]
  },
  {
   "cell_type": "markdown",
   "id": "68786161",
   "metadata": {},
   "source": [
    "##### K Nearest Neighbors"
   ]
  },
  {
   "cell_type": "code",
   "execution_count": 378,
   "id": "1ad75a7e",
   "metadata": {},
   "outputs": [
    {
     "name": "stdout",
     "output_type": "stream",
     "text": [
      "0.8199899295065458\n"
     ]
    }
   ],
   "source": [
    "from sklearn.neighbors import KNeighborsClassifier\n",
    "\n",
    "# Create an instance of the classifier and assign it to a model     # variable. \n",
    "model_kn = KNeighborsClassifier(n_neighbors=9, leaf_size=20)\n",
    "# Train the model using the fit method and training data.\n",
    "model_kn.fit(x_train, y_train)\n",
    "# Make predictions on the test data. \n",
    "predictions_kn = model_kn.predict(x_test)\n",
    "# Calculate the Accuracy Score.\n",
    "kn = accuracy_score(y_test, predictions_kn)\n",
    "print(kn)"
   ]
  },
  {
   "cell_type": "code",
   "execution_count": 379,
   "id": "3a94e187",
   "metadata": {},
   "outputs": [
    {
     "data": {
      "text/plain": [
       "<AxesSubplot:>"
      ]
     },
     "execution_count": 379,
     "metadata": {},
     "output_type": "execute_result"
    },
    {
     "data": {
      "image/png": "[encoded data removed]",
      "text/plain": [
       "<Figure size 432x288 with 2 Axes>"
      ]
     },
     "metadata": {
      "needs_background": "light"
     },
     "output_type": "display_data"
    }
   ],
   "source": [
    "# Show Confusion Maxtrix\n",
    "cm4 = confusion_matrix(y_test, predictions_kn)\n",
    "sns.heatmap(cm4/np.sum(cm4), annot = True, fmt=  '0.2%', cmap = 'Reds')"
   ]
  },
  {
   "cell_type": "markdown",
   "id": "975c6848",
   "metadata": {},
   "source": [
    "##### Support Vector Machine (SVC)"
   ]
  },
  {
   "cell_type": "code",
   "execution_count": 381,
   "id": "9b97cd23",
   "metadata": {},
   "outputs": [
    {
     "name": "stdout",
     "output_type": "stream",
     "text": [
      "0.8301443437395098\n"
     ]
    }
   ],
   "source": [
    "from sklearn.svm import SVC\n",
    "\n",
    "# Create an instance of the classifier and assign it to a model variable. \n",
    "model_svc = SVC()\n",
    "# Train the model using the fit method and training data.\n",
    "model_svc.fit(x_train, y_train)\n",
    "# Make predictions on the test data. \n",
    "predictions_svc = model_svc.predict(x_test)\n",
    "# Calculate the Accuracy Score.\n",
    "svc = accuracy_score(y_test, predictions_svc)\n",
    "print(svc)"
   ]
  },
  {
   "cell_type": "code",
   "execution_count": 382,
   "id": "71144745",
   "metadata": {},
   "outputs": [
    {
     "data": {
      "text/plain": [
       "<AxesSubplot:>"
      ]
     },
     "execution_count": 382,
     "metadata": {},
     "output_type": "execute_result"
    },
    {
     "data": {
      "image/png": "[encoded data removed]",
      "text/plain": [
       "<Figure size 432x288 with 2 Axes>"
      ]
     },
     "metadata": {
      "needs_background": "light"
     },
     "output_type": "display_data"
    }
   ],
   "source": [
    "# Show Confusion Maxtrix\n",
    "cm5 = confusion_matrix(y_test, predictions_svc)\n",
    "sns.heatmap(cm5/np.sum(cm5), annot = True, fmt=  '0.2%', cmap = 'Reds')"
   ]
  },
  {
   "cell_type": "code",
   "execution_count": 387,
   "id": "50ddc284",
   "metadata": {},
   "outputs": [
    {
     "data": {
      "text/html": [
       "<div>\n",
       "<style scoped>\n",
       "    .dataframe tbody tr th:only-of-type {\n",
       "        vertical-align: middle;\n",
       "    }\n",
       "\n",
       "    .dataframe tbody tr th {\n",
       "        vertical-align: top;\n",
       "    }\n",
       "\n",
       "    .dataframe thead th {\n",
       "        text-align: right;\n",
       "    }\n",
       "</style>\n",
       "<table border=\"1\" class=\"dataframe\">\n",
       "  <thead>\n",
       "    <tr style=\"text-align: right;\">\n",
       "      <th></th>\n",
       "      <th>Model</th>\n",
       "      <th>Accuracy_score</th>\n",
       "    </tr>\n",
       "  </thead>\n",
       "  <tbody>\n",
       "    <tr>\n",
       "      <th>0</th>\n",
       "      <td>Logistic Regression</td>\n",
       "      <td>0.831235</td>\n",
       "    </tr>\n",
       "    <tr>\n",
       "      <th>2</th>\n",
       "      <td>Random Forest</td>\n",
       "      <td>0.830144</td>\n",
       "    </tr>\n",
       "    <tr>\n",
       "      <th>4</th>\n",
       "      <td>Support Vector Machine</td>\n",
       "      <td>0.830144</td>\n",
       "    </tr>\n",
       "    <tr>\n",
       "      <th>3</th>\n",
       "      <td>KNeighbours</td>\n",
       "      <td>0.819990</td>\n",
       "    </tr>\n",
       "    <tr>\n",
       "      <th>1</th>\n",
       "      <td>Decision Tree</td>\n",
       "      <td>0.736237</td>\n",
       "    </tr>\n",
       "  </tbody>\n",
       "</table>\n",
       "</div>"
      ],
      "text/plain": [
       "                    Model  Accuracy_score\n",
       "0     Logistic Regression        0.831235\n",
       "2           Random Forest        0.830144\n",
       "4  Support Vector Machine        0.830144\n",
       "3             KNeighbours        0.819990\n",
       "1           Decision Tree        0.736237"
      ]
     },
     "execution_count": 387,
     "metadata": {},
     "output_type": "execute_result"
    },
    {
     "data": {
      "image/png": "[encoded data removed]",
      "text/plain": [
       "<Figure size 432x288 with 1 Axes>"
      ]
     },
     "metadata": {
      "needs_background": "light"
     },
     "output_type": "display_data"
    }
   ],
   "source": [
    "# Show Accuraccy Score by Model.\n",
    "models = pd.DataFrame({\n",
    "    'Model':['Logistic Regression', 'Decision Tree', 'Random Forest', 'KNeighbours', 'Support Vector Machine'],\n",
    "    'Accuracy_score' :[lg, dt, rf, kn, svc]\n",
    "})\n",
    "models\n",
    "sns.barplot(x='Accuracy_score', y='Model', data=models)\n",
    "\n",
    "models.sort_values(by='Accuracy_score',ascending=False)"
   ]
  },
  {
   "cell_type": "code",
   "execution_count": null,
   "id": "4ad0beba",
   "metadata": {},
   "outputs": [],
   "source": []
  },
  {
   "cell_type": "code",
   "execution_count": null,
   "id": "c548fcc5",
   "metadata": {},
   "outputs": [],
   "source": []
  },
  {
   "cell_type": "code",
   "execution_count": null,
   "id": "30ef709d",
   "metadata": {},
   "outputs": [],
   "source": []
  }
 ],
 "metadata": {
  "kernelspec": {
   "display_name": "Python 3 (ipykernel)",
   "language": "python",
   "name": "python3"
  },
  "language_info": {
   "codemirror_mode": {
    "name": "ipython",
    "version": 3
   },
   "file_extension": ".py",
   "mimetype": "text/x-python",
   "name": "python",
   "nbconvert_exporter": "python",
   "pygments_lexer": "ipython3",
   "version": "3.9.7"
  }
 },
 "nbformat": 4,
 "nbformat_minor": 5
}
